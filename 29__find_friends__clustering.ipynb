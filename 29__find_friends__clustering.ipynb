{
 "cells": [
  {
   "cell_type": "markdown",
   "metadata": {},
   "source": [
    "# Tworzymy model do klastrowania danych z ankiety powitalnej"
   ]
  },
  {
   "cell_type": "code",
   "execution_count": 1,
   "metadata": {},
   "outputs": [],
   "source": [
    "import pandas as pd\n",
    "from pycaret.clustering import setup, create_model, assign_model, plot_model, save_model, load_model, predict_model"
   ]
  },
  {
   "cell_type": "code",
   "execution_count": 5,
   "metadata": {},
   "outputs": [
    {
     "data": {
      "text/html": [
       "<div>\n",
       "<style scoped>\n",
       "    .dataframe tbody tr th:only-of-type {\n",
       "        vertical-align: middle;\n",
       "    }\n",
       "\n",
       "    .dataframe tbody tr th {\n",
       "        vertical-align: top;\n",
       "    }\n",
       "\n",
       "    .dataframe thead th {\n",
       "        text-align: right;\n",
       "    }\n",
       "</style>\n",
       "<table border=\"1\" class=\"dataframe\">\n",
       "  <thead>\n",
       "    <tr style=\"text-align: right;\">\n",
       "      <th></th>\n",
       "      <th>age</th>\n",
       "      <th>edu_level</th>\n",
       "      <th>fav_animals</th>\n",
       "      <th>fav_place</th>\n",
       "      <th>gender</th>\n",
       "    </tr>\n",
       "  </thead>\n",
       "  <tbody>\n",
       "    <tr>\n",
       "      <th>0</th>\n",
       "      <td>&lt;18</td>\n",
       "      <td>Podstawowe</td>\n",
       "      <td>Brak ulubionych</td>\n",
       "      <td>NaN</td>\n",
       "      <td>Kobieta</td>\n",
       "    </tr>\n",
       "    <tr>\n",
       "      <th>1</th>\n",
       "      <td>25-34</td>\n",
       "      <td>Średnie</td>\n",
       "      <td>Psy</td>\n",
       "      <td>Nad wodą</td>\n",
       "      <td>Mężczyzna</td>\n",
       "    </tr>\n",
       "    <tr>\n",
       "      <th>2</th>\n",
       "      <td>45-54</td>\n",
       "      <td>Wyższe</td>\n",
       "      <td>Psy</td>\n",
       "      <td>W lesie</td>\n",
       "      <td>Mężczyzna</td>\n",
       "    </tr>\n",
       "    <tr>\n",
       "      <th>3</th>\n",
       "      <td>35-44</td>\n",
       "      <td>Średnie</td>\n",
       "      <td>Koty</td>\n",
       "      <td>W górach</td>\n",
       "      <td>Mężczyzna</td>\n",
       "    </tr>\n",
       "    <tr>\n",
       "      <th>4</th>\n",
       "      <td>35-44</td>\n",
       "      <td>Wyższe</td>\n",
       "      <td>Psy</td>\n",
       "      <td>Nad wodą</td>\n",
       "      <td>Mężczyzna</td>\n",
       "    </tr>\n",
       "  </tbody>\n",
       "</table>\n",
       "</div>"
      ],
      "text/plain": [
       "     age   edu_level      fav_animals fav_place     gender\n",
       "0    <18  Podstawowe  Brak ulubionych       NaN    Kobieta\n",
       "1  25-34     Średnie              Psy  Nad wodą  Mężczyzna\n",
       "2  45-54      Wyższe              Psy   W lesie  Mężczyzna\n",
       "3  35-44     Średnie             Koty  W górach  Mężczyzna\n",
       "4  35-44      Wyższe              Psy  Nad wodą  Mężczyzna"
      ]
     },
     "execution_count": 5,
     "metadata": {},
     "output_type": "execute_result"
    }
   ],
   "source": [
    "df = pd.read_csv('welcome_survey_simple_v2.csv', sep=';')\n",
    "df.head()"
   ]
  },
  {
   "cell_type": "code",
   "execution_count": 6,
   "metadata": {},
   "outputs": [
    {
     "data": {
      "text/plain": [
       "229"
      ]
     },
     "execution_count": 6,
     "metadata": {},
     "output_type": "execute_result"
    }
   ],
   "source": [
    "len(df)"
   ]
  },
  {
   "cell_type": "code",
   "execution_count": 7,
   "metadata": {},
   "outputs": [
    {
     "data": {
      "text/html": [
       "<style type=\"text/css\">\n",
       "#T_95e5c_row5_col1 {\n",
       "  background-color: lightgreen;\n",
       "}\n",
       "</style>\n",
       "<table id=\"T_95e5c\">\n",
       "  <thead>\n",
       "    <tr>\n",
       "      <th class=\"blank level0\" >&nbsp;</th>\n",
       "      <th id=\"T_95e5c_level0_col0\" class=\"col_heading level0 col0\" >Description</th>\n",
       "      <th id=\"T_95e5c_level0_col1\" class=\"col_heading level0 col1\" >Value</th>\n",
       "    </tr>\n",
       "  </thead>\n",
       "  <tbody>\n",
       "    <tr>\n",
       "      <th id=\"T_95e5c_level0_row0\" class=\"row_heading level0 row0\" >0</th>\n",
       "      <td id=\"T_95e5c_row0_col0\" class=\"data row0 col0\" >Session id</td>\n",
       "      <td id=\"T_95e5c_row0_col1\" class=\"data row0 col1\" >123</td>\n",
       "    </tr>\n",
       "    <tr>\n",
       "      <th id=\"T_95e5c_level0_row1\" class=\"row_heading level0 row1\" >1</th>\n",
       "      <td id=\"T_95e5c_row1_col0\" class=\"data row1 col0\" >Original data shape</td>\n",
       "      <td id=\"T_95e5c_row1_col1\" class=\"data row1 col1\" >(229, 5)</td>\n",
       "    </tr>\n",
       "    <tr>\n",
       "      <th id=\"T_95e5c_level0_row2\" class=\"row_heading level0 row2\" >2</th>\n",
       "      <td id=\"T_95e5c_row2_col0\" class=\"data row2 col0\" >Transformed data shape</td>\n",
       "      <td id=\"T_95e5c_row2_col1\" class=\"data row2 col1\" >(229, 21)</td>\n",
       "    </tr>\n",
       "    <tr>\n",
       "      <th id=\"T_95e5c_level0_row3\" class=\"row_heading level0 row3\" >3</th>\n",
       "      <td id=\"T_95e5c_row3_col0\" class=\"data row3 col0\" >Categorical features</td>\n",
       "      <td id=\"T_95e5c_row3_col1\" class=\"data row3 col1\" >5</td>\n",
       "    </tr>\n",
       "    <tr>\n",
       "      <th id=\"T_95e5c_level0_row4\" class=\"row_heading level0 row4\" >4</th>\n",
       "      <td id=\"T_95e5c_row4_col0\" class=\"data row4 col0\" >Rows with missing values</td>\n",
       "      <td id=\"T_95e5c_row4_col1\" class=\"data row4 col1\" >13.1%</td>\n",
       "    </tr>\n",
       "    <tr>\n",
       "      <th id=\"T_95e5c_level0_row5\" class=\"row_heading level0 row5\" >5</th>\n",
       "      <td id=\"T_95e5c_row5_col0\" class=\"data row5 col0\" >Preprocess</td>\n",
       "      <td id=\"T_95e5c_row5_col1\" class=\"data row5 col1\" >True</td>\n",
       "    </tr>\n",
       "    <tr>\n",
       "      <th id=\"T_95e5c_level0_row6\" class=\"row_heading level0 row6\" >6</th>\n",
       "      <td id=\"T_95e5c_row6_col0\" class=\"data row6 col0\" >Imputation type</td>\n",
       "      <td id=\"T_95e5c_row6_col1\" class=\"data row6 col1\" >simple</td>\n",
       "    </tr>\n",
       "    <tr>\n",
       "      <th id=\"T_95e5c_level0_row7\" class=\"row_heading level0 row7\" >7</th>\n",
       "      <td id=\"T_95e5c_row7_col0\" class=\"data row7 col0\" >Numeric imputation</td>\n",
       "      <td id=\"T_95e5c_row7_col1\" class=\"data row7 col1\" >mean</td>\n",
       "    </tr>\n",
       "    <tr>\n",
       "      <th id=\"T_95e5c_level0_row8\" class=\"row_heading level0 row8\" >8</th>\n",
       "      <td id=\"T_95e5c_row8_col0\" class=\"data row8 col0\" >Categorical imputation</td>\n",
       "      <td id=\"T_95e5c_row8_col1\" class=\"data row8 col1\" >mode</td>\n",
       "    </tr>\n",
       "    <tr>\n",
       "      <th id=\"T_95e5c_level0_row9\" class=\"row_heading level0 row9\" >9</th>\n",
       "      <td id=\"T_95e5c_row9_col0\" class=\"data row9 col0\" >Maximum one-hot encoding</td>\n",
       "      <td id=\"T_95e5c_row9_col1\" class=\"data row9 col1\" >-1</td>\n",
       "    </tr>\n",
       "    <tr>\n",
       "      <th id=\"T_95e5c_level0_row10\" class=\"row_heading level0 row10\" >10</th>\n",
       "      <td id=\"T_95e5c_row10_col0\" class=\"data row10 col0\" >Encoding method</td>\n",
       "      <td id=\"T_95e5c_row10_col1\" class=\"data row10 col1\" >None</td>\n",
       "    </tr>\n",
       "    <tr>\n",
       "      <th id=\"T_95e5c_level0_row11\" class=\"row_heading level0 row11\" >11</th>\n",
       "      <td id=\"T_95e5c_row11_col0\" class=\"data row11 col0\" >CPU Jobs</td>\n",
       "      <td id=\"T_95e5c_row11_col1\" class=\"data row11 col1\" >-1</td>\n",
       "    </tr>\n",
       "    <tr>\n",
       "      <th id=\"T_95e5c_level0_row12\" class=\"row_heading level0 row12\" >12</th>\n",
       "      <td id=\"T_95e5c_row12_col0\" class=\"data row12 col0\" >Use GPU</td>\n",
       "      <td id=\"T_95e5c_row12_col1\" class=\"data row12 col1\" >False</td>\n",
       "    </tr>\n",
       "    <tr>\n",
       "      <th id=\"T_95e5c_level0_row13\" class=\"row_heading level0 row13\" >13</th>\n",
       "      <td id=\"T_95e5c_row13_col0\" class=\"data row13 col0\" >Log Experiment</td>\n",
       "      <td id=\"T_95e5c_row13_col1\" class=\"data row13 col1\" >False</td>\n",
       "    </tr>\n",
       "    <tr>\n",
       "      <th id=\"T_95e5c_level0_row14\" class=\"row_heading level0 row14\" >14</th>\n",
       "      <td id=\"T_95e5c_row14_col0\" class=\"data row14 col0\" >Experiment Name</td>\n",
       "      <td id=\"T_95e5c_row14_col1\" class=\"data row14 col1\" >cluster-default-name</td>\n",
       "    </tr>\n",
       "    <tr>\n",
       "      <th id=\"T_95e5c_level0_row15\" class=\"row_heading level0 row15\" >15</th>\n",
       "      <td id=\"T_95e5c_row15_col0\" class=\"data row15 col0\" >USI</td>\n",
       "      <td id=\"T_95e5c_row15_col1\" class=\"data row15 col1\" >4c62</td>\n",
       "    </tr>\n",
       "  </tbody>\n",
       "</table>\n"
      ],
      "text/plain": [
       "<pandas.io.formats.style.Styler at 0x2aca3aad390>"
      ]
     },
     "metadata": {},
     "output_type": "display_data"
    },
    {
     "data": {
      "text/plain": [
       "<pycaret.clustering.oop.ClusteringExperiment at 0x2aca38601d0>"
      ]
     },
     "execution_count": 7,
     "metadata": {},
     "output_type": "execute_result"
    }
   ],
   "source": [
    "s = setup(df, session_id=123)\n",
    "s"
   ]
  },
  {
   "cell_type": "code",
   "execution_count": 8,
   "metadata": {},
   "outputs": [
    {
     "data": {
      "text/html": [
       "<div>\n",
       "<style scoped>\n",
       "    .dataframe tbody tr th:only-of-type {\n",
       "        vertical-align: middle;\n",
       "    }\n",
       "\n",
       "    .dataframe tbody tr th {\n",
       "        vertical-align: top;\n",
       "    }\n",
       "\n",
       "    .dataframe thead th {\n",
       "        text-align: right;\n",
       "    }\n",
       "</style>\n",
       "<table border=\"1\" class=\"dataframe\">\n",
       "  <thead>\n",
       "    <tr style=\"text-align: right;\">\n",
       "      <th></th>\n",
       "      <th>age</th>\n",
       "      <th>edu_level</th>\n",
       "      <th>fav_animals</th>\n",
       "      <th>fav_place</th>\n",
       "      <th>gender</th>\n",
       "    </tr>\n",
       "  </thead>\n",
       "  <tbody>\n",
       "    <tr>\n",
       "      <th>0</th>\n",
       "      <td>&lt;18</td>\n",
       "      <td>Podstawowe</td>\n",
       "      <td>Brak ulubionych</td>\n",
       "      <td>NaN</td>\n",
       "      <td>Kobieta</td>\n",
       "    </tr>\n",
       "    <tr>\n",
       "      <th>1</th>\n",
       "      <td>25-34</td>\n",
       "      <td>Średnie</td>\n",
       "      <td>Psy</td>\n",
       "      <td>Nad wodą</td>\n",
       "      <td>Mężczyzna</td>\n",
       "    </tr>\n",
       "    <tr>\n",
       "      <th>2</th>\n",
       "      <td>45-54</td>\n",
       "      <td>Wyższe</td>\n",
       "      <td>Psy</td>\n",
       "      <td>W lesie</td>\n",
       "      <td>Mężczyzna</td>\n",
       "    </tr>\n",
       "    <tr>\n",
       "      <th>3</th>\n",
       "      <td>35-44</td>\n",
       "      <td>Średnie</td>\n",
       "      <td>Koty</td>\n",
       "      <td>W górach</td>\n",
       "      <td>Mężczyzna</td>\n",
       "    </tr>\n",
       "    <tr>\n",
       "      <th>4</th>\n",
       "      <td>35-44</td>\n",
       "      <td>Wyższe</td>\n",
       "      <td>Psy</td>\n",
       "      <td>Nad wodą</td>\n",
       "      <td>Mężczyzna</td>\n",
       "    </tr>\n",
       "  </tbody>\n",
       "</table>\n",
       "</div>"
      ],
      "text/plain": [
       "     age   edu_level      fav_animals fav_place     gender\n",
       "0    <18  Podstawowe  Brak ulubionych       NaN    Kobieta\n",
       "1  25-34     Średnie              Psy  Nad wodą  Mężczyzna\n",
       "2  45-54      Wyższe              Psy   W lesie  Mężczyzna\n",
       "3  35-44     Średnie             Koty  W górach  Mężczyzna\n",
       "4  35-44      Wyższe              Psy  Nad wodą  Mężczyzna"
      ]
     },
     "execution_count": 8,
     "metadata": {},
     "output_type": "execute_result"
    }
   ],
   "source": [
    "s.dataset.head()"
   ]
  },
  {
   "cell_type": "code",
   "execution_count": 9,
   "metadata": {},
   "outputs": [
    {
     "data": {
      "text/html": [
       "<div>\n",
       "<style scoped>\n",
       "    .dataframe tbody tr th:only-of-type {\n",
       "        vertical-align: middle;\n",
       "    }\n",
       "\n",
       "    .dataframe tbody tr th {\n",
       "        vertical-align: top;\n",
       "    }\n",
       "\n",
       "    .dataframe thead th {\n",
       "        text-align: right;\n",
       "    }\n",
       "</style>\n",
       "<table border=\"1\" class=\"dataframe\">\n",
       "  <thead>\n",
       "    <tr style=\"text-align: right;\">\n",
       "      <th></th>\n",
       "      <th>age_&lt;18</th>\n",
       "      <th>age_25-34</th>\n",
       "      <th>age_45-54</th>\n",
       "      <th>age_35-44</th>\n",
       "      <th>age_18-24</th>\n",
       "      <th>age_&gt;=65</th>\n",
       "      <th>age_55-64</th>\n",
       "      <th>age_unknown</th>\n",
       "      <th>edu_level_Podstawowe</th>\n",
       "      <th>edu_level_Średnie</th>\n",
       "      <th>...</th>\n",
       "      <th>fav_animals_Brak ulubionych</th>\n",
       "      <th>fav_animals_Psy</th>\n",
       "      <th>fav_animals_Koty</th>\n",
       "      <th>fav_animals_Inne</th>\n",
       "      <th>fav_animals_Koty i Psy</th>\n",
       "      <th>fav_place_Nad wodą</th>\n",
       "      <th>fav_place_W lesie</th>\n",
       "      <th>fav_place_W górach</th>\n",
       "      <th>fav_place_Inne</th>\n",
       "      <th>gender</th>\n",
       "    </tr>\n",
       "  </thead>\n",
       "  <tbody>\n",
       "    <tr>\n",
       "      <th>0</th>\n",
       "      <td>1.0</td>\n",
       "      <td>0.0</td>\n",
       "      <td>0.0</td>\n",
       "      <td>0.0</td>\n",
       "      <td>0.0</td>\n",
       "      <td>0.0</td>\n",
       "      <td>0.0</td>\n",
       "      <td>0.0</td>\n",
       "      <td>1.0</td>\n",
       "      <td>0.0</td>\n",
       "      <td>...</td>\n",
       "      <td>1.0</td>\n",
       "      <td>0.0</td>\n",
       "      <td>0.0</td>\n",
       "      <td>0.0</td>\n",
       "      <td>0.0</td>\n",
       "      <td>1.0</td>\n",
       "      <td>0.0</td>\n",
       "      <td>0.0</td>\n",
       "      <td>0.0</td>\n",
       "      <td>0.0</td>\n",
       "    </tr>\n",
       "    <tr>\n",
       "      <th>1</th>\n",
       "      <td>0.0</td>\n",
       "      <td>1.0</td>\n",
       "      <td>0.0</td>\n",
       "      <td>0.0</td>\n",
       "      <td>0.0</td>\n",
       "      <td>0.0</td>\n",
       "      <td>0.0</td>\n",
       "      <td>0.0</td>\n",
       "      <td>0.0</td>\n",
       "      <td>1.0</td>\n",
       "      <td>...</td>\n",
       "      <td>0.0</td>\n",
       "      <td>1.0</td>\n",
       "      <td>0.0</td>\n",
       "      <td>0.0</td>\n",
       "      <td>0.0</td>\n",
       "      <td>1.0</td>\n",
       "      <td>0.0</td>\n",
       "      <td>0.0</td>\n",
       "      <td>0.0</td>\n",
       "      <td>1.0</td>\n",
       "    </tr>\n",
       "    <tr>\n",
       "      <th>2</th>\n",
       "      <td>0.0</td>\n",
       "      <td>0.0</td>\n",
       "      <td>1.0</td>\n",
       "      <td>0.0</td>\n",
       "      <td>0.0</td>\n",
       "      <td>0.0</td>\n",
       "      <td>0.0</td>\n",
       "      <td>0.0</td>\n",
       "      <td>0.0</td>\n",
       "      <td>0.0</td>\n",
       "      <td>...</td>\n",
       "      <td>0.0</td>\n",
       "      <td>1.0</td>\n",
       "      <td>0.0</td>\n",
       "      <td>0.0</td>\n",
       "      <td>0.0</td>\n",
       "      <td>0.0</td>\n",
       "      <td>1.0</td>\n",
       "      <td>0.0</td>\n",
       "      <td>0.0</td>\n",
       "      <td>1.0</td>\n",
       "    </tr>\n",
       "    <tr>\n",
       "      <th>3</th>\n",
       "      <td>0.0</td>\n",
       "      <td>0.0</td>\n",
       "      <td>0.0</td>\n",
       "      <td>1.0</td>\n",
       "      <td>0.0</td>\n",
       "      <td>0.0</td>\n",
       "      <td>0.0</td>\n",
       "      <td>0.0</td>\n",
       "      <td>0.0</td>\n",
       "      <td>1.0</td>\n",
       "      <td>...</td>\n",
       "      <td>0.0</td>\n",
       "      <td>0.0</td>\n",
       "      <td>1.0</td>\n",
       "      <td>0.0</td>\n",
       "      <td>0.0</td>\n",
       "      <td>0.0</td>\n",
       "      <td>0.0</td>\n",
       "      <td>1.0</td>\n",
       "      <td>0.0</td>\n",
       "      <td>1.0</td>\n",
       "    </tr>\n",
       "    <tr>\n",
       "      <th>4</th>\n",
       "      <td>0.0</td>\n",
       "      <td>0.0</td>\n",
       "      <td>0.0</td>\n",
       "      <td>1.0</td>\n",
       "      <td>0.0</td>\n",
       "      <td>0.0</td>\n",
       "      <td>0.0</td>\n",
       "      <td>0.0</td>\n",
       "      <td>0.0</td>\n",
       "      <td>0.0</td>\n",
       "      <td>...</td>\n",
       "      <td>0.0</td>\n",
       "      <td>1.0</td>\n",
       "      <td>0.0</td>\n",
       "      <td>0.0</td>\n",
       "      <td>0.0</td>\n",
       "      <td>1.0</td>\n",
       "      <td>0.0</td>\n",
       "      <td>0.0</td>\n",
       "      <td>0.0</td>\n",
       "      <td>1.0</td>\n",
       "    </tr>\n",
       "  </tbody>\n",
       "</table>\n",
       "<p>5 rows × 21 columns</p>\n",
       "</div>"
      ],
      "text/plain": [
       "   age_<18  age_25-34  age_45-54  age_35-44  age_18-24  age_>=65  age_55-64  \\\n",
       "0      1.0        0.0        0.0        0.0        0.0       0.0        0.0   \n",
       "1      0.0        1.0        0.0        0.0        0.0       0.0        0.0   \n",
       "2      0.0        0.0        1.0        0.0        0.0       0.0        0.0   \n",
       "3      0.0        0.0        0.0        1.0        0.0       0.0        0.0   \n",
       "4      0.0        0.0        0.0        1.0        0.0       0.0        0.0   \n",
       "\n",
       "   age_unknown  edu_level_Podstawowe  edu_level_Średnie  ...  \\\n",
       "0          0.0                   1.0                0.0  ...   \n",
       "1          0.0                   0.0                1.0  ...   \n",
       "2          0.0                   0.0                0.0  ...   \n",
       "3          0.0                   0.0                1.0  ...   \n",
       "4          0.0                   0.0                0.0  ...   \n",
       "\n",
       "   fav_animals_Brak ulubionych  fav_animals_Psy  fav_animals_Koty  \\\n",
       "0                          1.0              0.0               0.0   \n",
       "1                          0.0              1.0               0.0   \n",
       "2                          0.0              1.0               0.0   \n",
       "3                          0.0              0.0               1.0   \n",
       "4                          0.0              1.0               0.0   \n",
       "\n",
       "   fav_animals_Inne  fav_animals_Koty i Psy  fav_place_Nad wodą  \\\n",
       "0               0.0                     0.0                 1.0   \n",
       "1               0.0                     0.0                 1.0   \n",
       "2               0.0                     0.0                 0.0   \n",
       "3               0.0                     0.0                 0.0   \n",
       "4               0.0                     0.0                 1.0   \n",
       "\n",
       "   fav_place_W lesie  fav_place_W górach  fav_place_Inne  gender  \n",
       "0                0.0                 0.0             0.0     0.0  \n",
       "1                0.0                 0.0             0.0     1.0  \n",
       "2                1.0                 0.0             0.0     1.0  \n",
       "3                0.0                 1.0             0.0     1.0  \n",
       "4                0.0                 0.0             0.0     1.0  \n",
       "\n",
       "[5 rows x 21 columns]"
      ]
     },
     "execution_count": 9,
     "metadata": {},
     "output_type": "execute_result"
    }
   ],
   "source": [
    "s.dataset_transformed.head()"
   ]
  },
  {
   "cell_type": "code",
   "execution_count": 10,
   "metadata": {},
   "outputs": [
    {
     "data": {
      "text/html": [],
      "text/plain": [
       "<IPython.core.display.HTML object>"
      ]
     },
     "metadata": {},
     "output_type": "display_data"
    },
    {
     "data": {
      "text/html": [
       "<style type=\"text/css\">\n",
       "</style>\n",
       "<table id=\"T_045b2\">\n",
       "  <thead>\n",
       "    <tr>\n",
       "      <th class=\"blank level0\" >&nbsp;</th>\n",
       "      <th id=\"T_045b2_level0_col0\" class=\"col_heading level0 col0\" >Silhouette</th>\n",
       "      <th id=\"T_045b2_level0_col1\" class=\"col_heading level0 col1\" >Calinski-Harabasz</th>\n",
       "      <th id=\"T_045b2_level0_col2\" class=\"col_heading level0 col2\" >Davies-Bouldin</th>\n",
       "      <th id=\"T_045b2_level0_col3\" class=\"col_heading level0 col3\" >Homogeneity</th>\n",
       "      <th id=\"T_045b2_level0_col4\" class=\"col_heading level0 col4\" >Rand Index</th>\n",
       "      <th id=\"T_045b2_level0_col5\" class=\"col_heading level0 col5\" >Completeness</th>\n",
       "    </tr>\n",
       "  </thead>\n",
       "  <tbody>\n",
       "    <tr>\n",
       "      <th id=\"T_045b2_level0_row0\" class=\"row_heading level0 row0\" >0</th>\n",
       "      <td id=\"T_045b2_row0_col0\" class=\"data row0 col0\" >0.1953</td>\n",
       "      <td id=\"T_045b2_row0_col1\" class=\"data row0 col1\" >25.9036</td>\n",
       "      <td id=\"T_045b2_row0_col2\" class=\"data row0 col2\" >1.8584</td>\n",
       "      <td id=\"T_045b2_row0_col3\" class=\"data row0 col3\" >0</td>\n",
       "      <td id=\"T_045b2_row0_col4\" class=\"data row0 col4\" >0</td>\n",
       "      <td id=\"T_045b2_row0_col5\" class=\"data row0 col5\" >0</td>\n",
       "    </tr>\n",
       "  </tbody>\n",
       "</table>\n"
      ],
      "text/plain": [
       "<pandas.io.formats.style.Styler at 0x2aca3a42d50>"
      ]
     },
     "metadata": {},
     "output_type": "display_data"
    },
    {
     "data": {
      "application/vnd.jupyter.widget-view+json": {
       "model_id": "e1c3cd665afa45f9b49c841dbcff270f",
       "version_major": 2,
       "version_minor": 0
      },
      "text/plain": [
       "Processing:   0%|          | 0/3 [00:00<?, ?it/s]"
      ]
     },
     "metadata": {},
     "output_type": "display_data"
    }
   ],
   "source": [
    "kmeans = create_model('kmeans', num_clusters=8)"
   ]
  },
  {
   "cell_type": "code",
   "execution_count": 11,
   "metadata": {},
   "outputs": [
    {
     "data": {
      "text/html": [
       "<div>\n",
       "<style scoped>\n",
       "    .dataframe tbody tr th:only-of-type {\n",
       "        vertical-align: middle;\n",
       "    }\n",
       "\n",
       "    .dataframe tbody tr th {\n",
       "        vertical-align: top;\n",
       "    }\n",
       "\n",
       "    .dataframe thead th {\n",
       "        text-align: right;\n",
       "    }\n",
       "</style>\n",
       "<table border=\"1\" class=\"dataframe\">\n",
       "  <thead>\n",
       "    <tr style=\"text-align: right;\">\n",
       "      <th></th>\n",
       "      <th>age</th>\n",
       "      <th>edu_level</th>\n",
       "      <th>fav_animals</th>\n",
       "      <th>fav_place</th>\n",
       "      <th>gender</th>\n",
       "      <th>Cluster</th>\n",
       "    </tr>\n",
       "  </thead>\n",
       "  <tbody>\n",
       "    <tr>\n",
       "      <th>0</th>\n",
       "      <td>&lt;18</td>\n",
       "      <td>Podstawowe</td>\n",
       "      <td>Brak ulubionych</td>\n",
       "      <td>NaN</td>\n",
       "      <td>Kobieta</td>\n",
       "      <td>Cluster 5</td>\n",
       "    </tr>\n",
       "    <tr>\n",
       "      <th>1</th>\n",
       "      <td>25-34</td>\n",
       "      <td>Średnie</td>\n",
       "      <td>Psy</td>\n",
       "      <td>Nad wodą</td>\n",
       "      <td>Mężczyzna</td>\n",
       "      <td>Cluster 7</td>\n",
       "    </tr>\n",
       "    <tr>\n",
       "      <th>2</th>\n",
       "      <td>45-54</td>\n",
       "      <td>Wyższe</td>\n",
       "      <td>Psy</td>\n",
       "      <td>W lesie</td>\n",
       "      <td>Mężczyzna</td>\n",
       "      <td>Cluster 3</td>\n",
       "    </tr>\n",
       "    <tr>\n",
       "      <th>3</th>\n",
       "      <td>35-44</td>\n",
       "      <td>Średnie</td>\n",
       "      <td>Koty</td>\n",
       "      <td>W górach</td>\n",
       "      <td>Mężczyzna</td>\n",
       "      <td>Cluster 4</td>\n",
       "    </tr>\n",
       "    <tr>\n",
       "      <th>4</th>\n",
       "      <td>35-44</td>\n",
       "      <td>Wyższe</td>\n",
       "      <td>Psy</td>\n",
       "      <td>Nad wodą</td>\n",
       "      <td>Mężczyzna</td>\n",
       "      <td>Cluster 0</td>\n",
       "    </tr>\n",
       "    <tr>\n",
       "      <th>...</th>\n",
       "      <td>...</td>\n",
       "      <td>...</td>\n",
       "      <td>...</td>\n",
       "      <td>...</td>\n",
       "      <td>...</td>\n",
       "      <td>...</td>\n",
       "    </tr>\n",
       "    <tr>\n",
       "      <th>224</th>\n",
       "      <td>35-44</td>\n",
       "      <td>Wyższe</td>\n",
       "      <td>Koty</td>\n",
       "      <td>Inne</td>\n",
       "      <td>Kobieta</td>\n",
       "      <td>Cluster 2</td>\n",
       "    </tr>\n",
       "    <tr>\n",
       "      <th>225</th>\n",
       "      <td>45-54</td>\n",
       "      <td>Wyższe</td>\n",
       "      <td>Inne</td>\n",
       "      <td>W lesie</td>\n",
       "      <td>Mężczyzna</td>\n",
       "      <td>Cluster 3</td>\n",
       "    </tr>\n",
       "    <tr>\n",
       "      <th>226</th>\n",
       "      <td>25-34</td>\n",
       "      <td>Wyższe</td>\n",
       "      <td>Psy</td>\n",
       "      <td>W górach</td>\n",
       "      <td>Mężczyzna</td>\n",
       "      <td>Cluster 1</td>\n",
       "    </tr>\n",
       "    <tr>\n",
       "      <th>227</th>\n",
       "      <td>35-44</td>\n",
       "      <td>Wyższe</td>\n",
       "      <td>Brak ulubionych</td>\n",
       "      <td>W górach</td>\n",
       "      <td>Mężczyzna</td>\n",
       "      <td>Cluster 2</td>\n",
       "    </tr>\n",
       "    <tr>\n",
       "      <th>228</th>\n",
       "      <td>45-54</td>\n",
       "      <td>Wyższe</td>\n",
       "      <td>Koty</td>\n",
       "      <td>Nad wodą</td>\n",
       "      <td>Mężczyzna</td>\n",
       "      <td>Cluster 6</td>\n",
       "    </tr>\n",
       "  </tbody>\n",
       "</table>\n",
       "<p>229 rows × 6 columns</p>\n",
       "</div>"
      ],
      "text/plain": [
       "       age   edu_level      fav_animals fav_place     gender    Cluster\n",
       "0      <18  Podstawowe  Brak ulubionych       NaN    Kobieta  Cluster 5\n",
       "1    25-34     Średnie              Psy  Nad wodą  Mężczyzna  Cluster 7\n",
       "2    45-54      Wyższe              Psy   W lesie  Mężczyzna  Cluster 3\n",
       "3    35-44     Średnie             Koty  W górach  Mężczyzna  Cluster 4\n",
       "4    35-44      Wyższe              Psy  Nad wodą  Mężczyzna  Cluster 0\n",
       "..     ...         ...              ...       ...        ...        ...\n",
       "224  35-44      Wyższe             Koty      Inne    Kobieta  Cluster 2\n",
       "225  45-54      Wyższe             Inne   W lesie  Mężczyzna  Cluster 3\n",
       "226  25-34      Wyższe              Psy  W górach  Mężczyzna  Cluster 1\n",
       "227  35-44      Wyższe  Brak ulubionych  W górach  Mężczyzna  Cluster 2\n",
       "228  45-54      Wyższe             Koty  Nad wodą  Mężczyzna  Cluster 6\n",
       "\n",
       "[229 rows x 6 columns]"
      ]
     },
     "execution_count": 11,
     "metadata": {},
     "output_type": "execute_result"
    }
   ],
   "source": [
    "df_with_clusters = assign_model(kmeans)\n",
    "df_with_clusters"
   ]
  },
  {
   "cell_type": "code",
   "execution_count": 12,
   "metadata": {},
   "outputs": [
    {
     "data": {
      "text/plain": [
       "Cluster\n",
       "Cluster 0    48\n",
       "Cluster 3    38\n",
       "Cluster 1    34\n",
       "Cluster 6    33\n",
       "Cluster 4    26\n",
       "Cluster 2    23\n",
       "Cluster 7    18\n",
       "Cluster 5     9\n",
       "Name: count, dtype: int64"
      ]
     },
     "execution_count": 12,
     "metadata": {},
     "output_type": "execute_result"
    }
   ],
   "source": [
    "df_with_clusters[\"Cluster\"].value_counts()"
   ]
  },
  {
   "cell_type": "code",
   "execution_count": 13,
   "metadata": {},
   "outputs": [
    {
     "data": {
      "text/html": [],
      "text/plain": [
       "<IPython.core.display.HTML object>"
      ]
     },
     "metadata": {},
     "output_type": "display_data"
    },
    {
     "data": {
      "application/vnd.plotly.v1+json": {
       "config": {
        "plotlyServerURL": "https://plot.ly"
       },
       "data": [
        {
         "customdata": [
          [
           ">=65"
          ],
          [
           "35-44"
          ],
          [
           "35-44"
          ],
          [
           "55-64"
          ],
          [
           "35-44"
          ],
          [
           "25-34"
          ],
          [
           ">=65"
          ],
          [
           "35-44"
          ],
          [
           "25-34"
          ],
          [
           "25-34"
          ],
          [
           "35-44"
          ],
          [
           "35-44"
          ],
          [
           "35-44"
          ],
          [
           "35-44"
          ],
          [
           "25-34"
          ],
          [
           "25-34"
          ],
          [
           "55-64"
          ],
          [
           "55-64"
          ],
          [
           "35-44"
          ],
          [
           "35-44"
          ],
          [
           "35-44"
          ],
          [
           "35-44"
          ],
          [
           "55-64"
          ],
          [
           "55-64"
          ],
          [
           "35-44"
          ],
          [
           "35-44"
          ],
          [
           "35-44"
          ],
          [
           "35-44"
          ],
          [
           "unknown"
          ],
          [
           "35-44"
          ],
          [
           "35-44"
          ],
          [
           "35-44"
          ],
          [
           "35-44"
          ],
          [
           "35-44"
          ],
          [
           "35-44"
          ],
          [
           "35-44"
          ],
          [
           "35-44"
          ],
          [
           "25-34"
          ],
          [
           "25-34"
          ],
          [
           "35-44"
          ],
          [
           "35-44"
          ],
          [
           "35-44"
          ],
          [
           "35-44"
          ],
          [
           "25-34"
          ],
          [
           "35-44"
          ],
          [
           "35-44"
          ],
          [
           "35-44"
          ],
          [
           "25-34"
          ]
         ],
         "hovertemplate": "Cluster=Cluster 0<br>PCA1=%{x}<br>PCA2=%{y}<br>Feature=%{customdata[0]}<extra></extra>",
         "legendgroup": "Cluster 0",
         "marker": {
          "color": "#636efa",
          "opacity": 0.5,
          "symbol": "circle"
         },
         "mode": "markers",
         "name": "Cluster 0",
         "orientation": "v",
         "showlegend": true,
         "textposition": "top center",
         "type": "scatter",
         "x": [
          -0.7916351692743735,
          -1.0481050128502325,
          -0.9377293520910018,
          -0.8415340986348119,
          -0.9377293520910018,
          -0.6665118673102485,
          -0.7916351692743735,
          -0.9377293520910018,
          -0.16919506167815956,
          -0.06491823163322885,
          -0.4553985894049705,
          -0.4553985894049705,
          -0.9377293520910018,
          -0.9377293520910018,
          -0.6665118673102485,
          -0.7768875280694794,
          -0.8415340986348119,
          -0.8415340986348119,
          -0.9377293520910018,
          -0.446511377173213,
          -1.0481050128502325,
          -0.9377293520910018,
          -0.8415340986348119,
          -0.8415340986348119,
          -1.0481050128502325,
          -0.5657742501642014,
          -1.0481050128502325,
          -0.9377293520910018,
          -0.9082084202214559,
          -0.5657742501642014,
          -0.3361357164139822,
          -0.33003688569968165,
          -0.33613571641398204,
          -0.9377293520910018,
          -0.9377293520910018,
          -0.9377293520910018,
          -0.9377293520910014,
          -0.7768875280694794,
          -0.06491823163322885,
          -0.5657742501642014,
          -0.9377293520910019,
          -0.9377293520910018,
          -0.9377293520910018,
          -0.06491823163322885,
          -0.9377293520910018,
          -1.0481050128502325,
          -0.9377293520910018,
          -0.6665118673102485
         ],
         "xaxis": "x",
         "y": [
          0.11450506639918284,
          -0.5592598071836955,
          -0.5510649101673107,
          0.13941592943992362,
          -0.5510649101673107,
          0.15326039289519425,
          0.11450506639918284,
          -0.5510649101673107,
          0.21992462553350958,
          -0.07090114274210074,
          -0.7303852072665288,
          -0.7303852072665288,
          -0.5510649101673107,
          -0.5510649101673107,
          0.15326039289519425,
          0.14506549587880938,
          0.13941592943992362,
          0.13941592943992362,
          -0.5510649101673107,
          -0.7834213428209906,
          -0.5592598071836955,
          -0.5510649101673107,
          0.13941592943992362,
          0.13941592943992362,
          -0.5592598071836955,
          -0.7385801042829137,
          -0.5592598071836955,
          -0.5510649101673107,
          0.10895726740781626,
          -0.7385801042829137,
          -0.7752264458046059,
          -0.4762057805126105,
          -0.7752264458046059,
          -0.5510649101673105,
          -0.5510649101673107,
          -0.5510649101673107,
          -0.5510649101673109,
          0.14506549587880938,
          -0.07090114274210074,
          -0.7385801042829137,
          -0.5510649101673107,
          -0.5510649101673107,
          -0.5510649101673107,
          -0.07090114274210074,
          -0.5510649101673107,
          -0.5592598071836955,
          -0.5510649101673107,
          0.15326039289519425
         ],
         "yaxis": "y"
        },
        {
         "customdata": [
          [
           "45-54"
          ],
          [
           "25-34"
          ],
          [
           "35-44"
          ],
          [
           "35-44"
          ],
          [
           "35-44"
          ],
          [
           "35-44"
          ],
          [
           "25-34"
          ],
          [
           "45-54"
          ],
          [
           "25-34"
          ],
          [
           "25-34"
          ],
          [
           "25-34"
          ],
          [
           "45-54"
          ],
          [
           "45-54"
          ],
          [
           "25-34"
          ],
          [
           "35-44"
          ],
          [
           "25-34"
          ],
          [
           "45-54"
          ],
          [
           "45-54"
          ],
          [
           "45-54"
          ],
          [
           "45-54"
          ],
          [
           "18-24"
          ],
          [
           "25-34"
          ],
          [
           "45-54"
          ],
          [
           ">=65"
          ],
          [
           "55-64"
          ],
          [
           "35-44"
          ],
          [
           "45-54"
          ],
          [
           "35-44"
          ],
          [
           "35-44"
          ],
          [
           "45-54"
          ],
          [
           "45-54"
          ],
          [
           "45-54"
          ],
          [
           "45-54"
          ],
          [
           "45-54"
          ]
         ],
         "hovertemplate": "Cluster=Cluster 1<br>PCA1=%{x}<br>PCA2=%{y}<br>Feature=%{customdata[0]}<extra></extra>",
         "legendgroup": "Cluster 1",
         "marker": {
          "color": "#EF553B",
          "opacity": 0.5,
          "symbol": "circle"
         },
         "mode": "markers",
         "name": "Cluster 1",
         "orientation": "v",
         "showlegend": true,
         "textposition": "top center",
         "type": "scatter",
         "x": [
          0.9004776353722146,
          0.38290871649405517,
          0.11169123171330204,
          0.11169123171330204,
          0.11169123171330204,
          0.11169123171330204,
          0.27253305573482434,
          0.18850833893596378,
          0.8652394791800867,
          0.8272196349428659,
          0.38290871649405517,
          0.2988839996951948,
          0.7812147623812264,
          0.27253305573482434,
          0.11169123171330204,
          0.38290871649405517,
          0.2988839996951948,
          0.2988839996951948,
          0.9004776353722146,
          0.18850833893596394,
          0.7855741365462581,
          0.38290871649405517,
          0.6328192573847753,
          0.7020963329787413,
          0.2078864851694916,
          0.11169123171330204,
          0.7812147623812264,
          0.11169123171330204,
          0.11169123171330204,
          0.2988839996951948,
          0.2988839996951948,
          0.2988839996951948,
          0.2988839996951951,
          0.18850833893596394
         ],
         "xaxis": "x",
         "y": [
          0.3683819311563365,
          0.0016345005905606031,
          -0.7026908024719443,
          -0.7026908024719443,
          -0.7026908024719443,
          -0.7026908024719443,
          -0.006560396425824256,
          0.5843485697772466,
          -0.1776857965086576,
          -0.2644292926481168,
          0.0016345005905606031,
          0.5925434667936316,
          0.41322316969441325,
          -0.006560396425824256,
          -0.7026908024719443,
          0.0016345005905606031,
          0.5925434667936316,
          0.5925434667936316,
          0.3683819311563365,
          0.5843485697772467,
          -0.30973137180410815,
          0.0016345005905606031,
          0.31828477653856924,
          -0.3031846191441281,
          -0.012209962864709956,
          -0.7026908024719443,
          0.41322316969441325,
          -0.7026908024719443,
          -0.7026908024719443,
          0.5925434667936316,
          0.5925434667936316,
          0.5925434667936316,
          0.5925434667936313,
          0.5843485697772467
         ],
         "yaxis": "y"
        },
        {
         "customdata": [
          [
           "35-44"
          ],
          [
           "35-44"
          ],
          [
           "35-44"
          ],
          [
           "35-44"
          ],
          [
           "35-44"
          ],
          [
           "35-44"
          ],
          [
           "35-44"
          ],
          [
           "35-44"
          ],
          [
           "35-44"
          ],
          [
           "35-44"
          ],
          [
           "35-44"
          ],
          [
           "35-44"
          ],
          [
           "35-44"
          ],
          [
           "35-44"
          ],
          [
           "35-44"
          ],
          [
           "25-34"
          ],
          [
           "35-44"
          ],
          [
           "35-44"
          ],
          [
           ">=65"
          ],
          [
           "35-44"
          ],
          [
           "25-34"
          ],
          [
           "35-44"
          ],
          [
           "25-34"
          ]
         ],
         "hovertemplate": "Cluster=Cluster 2<br>PCA1=%{x}<br>PCA2=%{y}<br>Feature=%{customdata[0]}<extra></extra>",
         "legendgroup": "Cluster 2",
         "marker": {
          "color": "#00cc96",
          "opacity": 0.5,
          "symbol": "circle"
         },
         "mode": "markers",
         "name": "Cluster 2",
         "orientation": "v",
         "showlegend": true,
         "textposition": "top center",
         "type": "scatter",
         "x": [
          0.7132848673903222,
          0.0013155709540712394,
          0.7132848673903222,
          0.5940219943993335,
          0.3709614963639955,
          0.7132848673903222,
          0.5560021501621133,
          0.5940219943993335,
          0.6029092066310913,
          0.0013155709540712394,
          0.5560021501621136,
          0.5940219943993335,
          0.3709614963639955,
          0.7132848673903222,
          0.7132848673903222,
          0.9845023521710745,
          0.1611810892181075,
          0.0419182162271188,
          0.5917206722195105,
          0.5560021501621133,
          0.9845023521710746,
          0.7132848673903222,
          0.874126691411844
         ],
         "xaxis": "x",
         "y": [
          -0.9268523381092393,
          -0.710885699488329,
          -0.9268523381092393,
          -0.8820110995711624,
          -0.8793102882743096,
          -0.9268523381092393,
          -0.9687545957106215,
          -0.8820110995711624,
          -0.9350472351256242,
          -0.710885699488329,
          -0.9687545957106215,
          -0.8820110995711624,
          -0.8793102882743096,
          -0.9268523381092393,
          -0.9268523381092393,
          -0.22252703504673432,
          -0.7085622131662904,
          -0.6637209746282133,
          -0.3113795161605129,
          -0.9687545957106215,
          -0.22252703504673432,
          -0.9268523381092393,
          -0.23072193206311914
         ],
         "yaxis": "y"
        },
        {
         "customdata": [
          [
           "45-54"
          ],
          [
           "25-34"
          ],
          [
           "25-34"
          ],
          [
           "45-54"
          ],
          [
           "55-64"
          ],
          [
           "45-54"
          ],
          [
           "45-54"
          ],
          [
           "35-44"
          ],
          [
           "25-34"
          ],
          [
           "35-44"
          ],
          [
           "45-54"
          ],
          [
           "45-54"
          ],
          [
           "45-54"
          ],
          [
           "45-54"
          ],
          [
           "45-54"
          ],
          [
           ">=65"
          ],
          [
           "45-54"
          ],
          [
           "45-54"
          ],
          [
           "35-44"
          ],
          [
           "45-54"
          ],
          [
           "35-44"
          ],
          [
           "45-54"
          ],
          [
           "55-64"
          ],
          [
           "35-44"
          ],
          [
           "55-64"
          ],
          [
           "45-54"
          ],
          [
           "25-34"
          ],
          [
           "45-54"
          ],
          [
           "55-64"
          ],
          [
           "35-44"
          ],
          [
           "45-54"
          ],
          [
           "25-34"
          ],
          [
           "35-44"
          ],
          [
           "25-34"
          ],
          [
           "35-44"
          ],
          [
           "45-54"
          ],
          [
           "45-54"
          ],
          [
           "25-34"
          ]
         ],
         "hovertemplate": "Cluster=Cluster 3<br>PCA1=%{x}<br>PCA2=%{y}<br>Feature=%{customdata[0]}<extra></extra>",
         "legendgroup": "Cluster 3",
         "marker": {
          "color": "#ab63fa",
          "opacity": 0.5,
          "symbol": "circle"
         },
         "mode": "markers",
         "name": "Cluster 3",
         "orientation": "v",
         "showlegend": true,
         "textposition": "top center",
         "type": "scatter",
         "x": [
          -0.09252165850383623,
          -0.11887260246420715,
          -0.008496941704975974,
          0.5090719771731835,
          0.15041608466004086,
          -0.09252165850383623,
          -0.20289731926306703,
          0.16459649196308226,
          0.4738338209810556,
          0.16459649196308226,
          0.5090719771731835,
          0.5090719771731835,
          -0.20289731926306703,
          0.3898091041821954,
          -0.09252165850383623,
          0.20031501402047958,
          -0.09252165850383623,
          -0.09252165850383623,
          -0.2797144264857291,
          -0.09252165850383577,
          -0.2797144264857291,
          -0.09252165850383623,
          -0.18351917302953943,
          -0.2797144264857291,
          0.41807446264748027,
          0.3986963164139527,
          -0.00849694170497603,
          0.27943344342296456,
          -0.18351917302953943,
          -0.3900900872449599,
          0.351789259944975,
          -0.008496941704975974,
          -0.2797144264857291,
          0.4738338209810556,
          -0.2797144264857291,
          0.3898091041821954,
          -0.09252165850383623,
          -0.11887260246420678
         ],
         "xaxis": "x",
         "y": [
          1.0661771758079874,
          0.4670733125885317,
          0.47526820960491656,
          0.8420156401706923,
          0.18716505589458388,
          1.0661771758079874,
          1.0579822787916024,
          -0.49512088669626547,
          0.29594791250569846,
          -0.49512088669626547,
          0.8420156401706923,
          0.8420156401706923,
          1.0579822787916024,
          0.8868568787087692,
          1.0661771758079874,
          0.16225419285384288,
          1.0661771758079874,
          1.0661771758079874,
          -0.2290570934575882,
          1.066177175807988,
          -0.2290570934575882,
          1.0661771758079874,
          0.4614237461496459,
          -0.2290570934575882,
          0.23726221051235102,
          0.8338207431543074,
          0.4752682096049165,
          0.8786619816923843,
          0.4614237461496459,
          -0.23725199047397308,
          0.80011338256931,
          0.47526820960491656,
          -0.2290570934575882,
          0.29594791250569846,
          -0.2290570934575882,
          0.8868568787087692,
          1.0661771758079874,
          0.46707331258853174
         ],
         "yaxis": "y"
        },
        {
         "customdata": [
          [
           "35-44"
          ],
          [
           "25-34"
          ],
          [
           "25-34"
          ],
          [
           "18-24"
          ],
          [
           "35-44"
          ],
          [
           "18-24"
          ],
          [
           "25-34"
          ],
          [
           "35-44"
          ],
          [
           "45-54"
          ],
          [
           "45-54"
          ],
          [
           "45-54"
          ],
          [
           "45-54"
          ],
          [
           "18-24"
          ],
          [
           "35-44"
          ],
          [
           "25-34"
          ],
          [
           "25-34"
          ],
          [
           "45-54"
          ],
          [
           "45-54"
          ],
          [
           "45-54"
          ],
          [
           "25-34"
          ],
          [
           "45-54"
          ],
          [
           "18-24"
          ],
          [
           "45-54"
          ],
          [
           "25-34"
          ],
          [
           "18-24"
          ],
          [
           "18-24"
          ]
         ],
         "hovertemplate": "Cluster=Cluster 4<br>PCA1=%{x}<br>PCA2=%{y}<br>Feature=%{customdata[0]}<extra></extra>",
         "legendgroup": "Cluster 4",
         "marker": {
          "color": "#FFA15A",
          "opacity": 0.5,
          "symbol": "circle"
         },
         "mode": "markers",
         "name": "Cluster 4",
         "orientation": "v",
         "showlegend": true,
         "textposition": "top center",
         "type": "scatter",
         "x": [
          1.1738952538505105,
          0.9627819759452318,
          1.2967172336348125,
          1.5227301132256428,
          1.2931581268414984,
          1.4123544524664124,
          0.9627819759452318,
          1.2931581268414984,
          0.969682363633372,
          0.8787572591463716,
          0.9193599044194195,
          1.3230681775951827,
          0.921136477548624,
          0.6915644911644787,
          1.1729699534232205,
          1.1729699534232205,
          1.361088021832403,
          1.3230681775951827,
          0.8787572591463716,
          1.4451127386312634,
          1.0386227774104075,
          1.4034672402346553,
          1.0889452366243604,
          1.0033846212182798,
          1.1313244550266124,
          0.921136477548624
         ],
         "xaxis": "x",
         "y": [
          -0.8802200133532293,
          0.0034255868084938365,
          -0.27083310344656836,
          -0.2660380279847928,
          -0.9250612518913061,
          -0.2742329250011776,
          0.0034255868084938365,
          -0.9250612518913062,
          0.888647964926702,
          0.5943345530115645,
          0.64149927787168,
          0.3282707597728874,
          -0.041876492347497775,
          -0.7008997162540112,
          0.25289776018555477,
          0.25289776018555477,
          0.41501425591234636,
          0.3282707597728874,
          0.5943345530115645,
          -0.17589471029072443,
          0.5966580393336034,
          -0.22119678944671597,
          0.8438067263886254,
          0.05059031166860929,
          0.20759568102956324,
          -0.041876492347497775
         ],
         "yaxis": "y"
        },
        {
         "customdata": [
          [
           "35-44"
          ],
          [
           "<18"
          ],
          [
           "45-54"
          ],
          [
           "35-44"
          ],
          [
           "unknown"
          ],
          [
           "35-44"
          ],
          [
           "35-44"
          ],
          [
           "35-44"
          ],
          [
           ">=65"
          ]
         ],
         "hovertemplate": "Cluster=Cluster 5<br>PCA1=%{x}<br>PCA2=%{y}<br>Feature=%{customdata[0]}<extra></extra>",
         "legendgroup": "Cluster 5",
         "marker": {
          "color": "#19d3f3",
          "opacity": 0.5,
          "symbol": "circle"
         },
         "mode": "markers",
         "name": "Cluster 5",
         "orientation": "v",
         "showlegend": true,
         "textposition": "top center",
         "type": "scatter",
         "x": [
          -0.4934184336421907,
          -0.16539190810188223,
          -0.30622566566029785,
          -0.4934184336421907,
          -0.35352184101341383,
          -0.4934184336421907,
          -0.4934184336421907,
          -0.6037940944014214,
          -0.34732425082556206
         ],
         "xaxis": "x",
         "y": [
          -0.817128703405988,
          -0.16058854833391276,
          0.47810556585958763,
          -0.817128703405988,
          -0.1489116288144762,
          -0.817128703405988,
          -0.817128703405988,
          -0.8253236004223727,
          -0.15155872683949445
         ],
         "yaxis": "y"
        },
        {
         "customdata": [
          [
           "55-64"
          ],
          [
           "45-54"
          ],
          [
           "45-54"
          ],
          [
           "55-64"
          ],
          [
           "45-54"
          ],
          [
           "45-54"
          ],
          [
           "45-54"
          ],
          [
           "45-54"
          ],
          [
           "45-54"
          ],
          [
           "45-54"
          ],
          [
           "45-54"
          ],
          [
           "45-54"
          ],
          [
           "45-54"
          ],
          [
           "45-54"
          ],
          [
           "55-64"
          ],
          [
           "45-54"
          ],
          [
           "55-64"
          ],
          [
           "45-54"
          ],
          [
           "45-54"
          ],
          [
           "55-64"
          ],
          [
           "45-54"
          ],
          [
           "45-54"
          ],
          [
           "45-54"
          ],
          [
           "45-54"
          ],
          [
           "45-54"
          ],
          [
           "45-54"
          ],
          [
           "45-54"
          ],
          [
           "45-54"
          ],
          [
           "45-54"
          ],
          [
           "45-54"
          ],
          [
           "45-54"
          ],
          [
           "45-54"
          ],
          [
           "18-24"
          ]
         ],
         "hovertemplate": "Cluster=Cluster 6<br>PCA1=%{x}<br>PCA2=%{y}<br>Feature=%{customdata[0]}<extra></extra>",
         "legendgroup": "Cluster 6",
         "marker": {
          "color": "#FF6692",
          "opacity": 0.5,
          "symbol": "circle"
         },
         "mode": "markers",
         "name": "Cluster 6",
         "orientation": "v",
         "showlegend": true,
         "textposition": "top center",
         "type": "scatter",
         "x": [
          -0.35920333594878034,
          -0.26820582142307714,
          -0.7505365841091093,
          -0.4718881732248878,
          -0.7505365841091093,
          0.3394866449682425,
          -0.7505365841091093,
          -0.86091224486834,
          -0.86091224486834,
          -0.86091224486834,
          -0.86091224486834,
          -0.38089065869918465,
          -0.86091224486834,
          -0.3785814821823082,
          -0.35920333594878034,
          -0.4912663194584155,
          -0.23994046295779212,
          -0.38089065869918465,
          -0.14894294843208927,
          -0.35920333594878034,
          -0.14894294843208927,
          -0.7505365841091093,
          -0.26820582142307736,
          -0.7505365841091093,
          -0.86091224486834,
          -0.14284411771778902,
          -0.7505365841091093,
          -0.7505365841091093,
          -0.14894294843208927,
          -0.2593186091913201,
          -0.86091224486834,
          -0.7505365841091093,
          -0.22582660302082536
         ],
         "xaxis": "x",
         "y": [
          -0.03990436765929455,
          0.5648490619990468,
          0.7441693590982652,
          -0.029008659346056592,
          0.7441693590982652,
          0.639708191653747,
          0.7441693590982652,
          0.7359744620818804,
          0.7359744620818804,
          0.7359744620818804,
          0.7359744620818804,
          0.5757447703122848,
          0.7359744620818804,
          0.5566541649826621,
          -0.03990436765929455,
          0.5675498732958999,
          -0.08474560619737131,
          0.5757447703122848,
          0.5200078234609701,
          -0.03990436765929455,
          0.5200078234609701,
          0.7441693590982652,
          0.5648490619990469,
          0.7441693590982652,
          0.7359744620818804,
          0.8190284887529653,
          0.7441693590982652,
          0.7441693590982652,
          0.5200078234609701,
          0.5118129264445852,
          0.7359744620818804,
          0.7441693590982652,
          -0.0713619833600156
         ],
         "yaxis": "y"
        },
        {
         "customdata": [
          [
           "45-54"
          ],
          [
           "25-34"
          ],
          [
           "35-44"
          ],
          [
           "35-44"
          ],
          [
           "35-44"
          ],
          [
           "35-44"
          ],
          [
           "45-54"
          ],
          [
           "25-34"
          ],
          [
           "45-54"
          ],
          [
           "35-44"
          ],
          [
           ">=65"
          ],
          [
           "25-34"
          ],
          [
           "18-24"
          ],
          [
           "35-44"
          ],
          [
           "35-44"
          ],
          [
           "35-44"
          ],
          [
           "45-54"
          ],
          [
           "18-24"
          ]
         ],
         "hovertemplate": "Cluster=Cluster 7<br>PCA1=%{x}<br>PCA2=%{y}<br>Feature=%{customdata[0]}<extra></extra>",
         "legendgroup": "Cluster 7",
         "marker": {
          "color": "#B6E880",
          "opacity": 0.5,
          "symbol": "circle"
         },
         "mode": "markers",
         "name": "Cluster 7",
         "orientation": "v",
         "showlegend": true,
         "textposition": "top center",
         "type": "scatter",
         "x": [
          -0.17066332465793202,
          -0.08663860785907107,
          -0.023920834950244673,
          0.24373754303719444,
          0.30015883296544754,
          -0.35785609263982526,
          -0.17066332465793202,
          0.514955027817948,
          -0.17066332465793202,
          -0.46823175339905604,
          -0.2117619098231966,
          -0.08663860785907189,
          -0.12828410625567999,
          0.12447467004620622,
          -0.46823175339905604,
          0.1897831722062167,
          0.3205546502598568,
          -0.12828410625567999
         ],
         "xaxis": "x",
         "y": [
          0.7459604453161981,
          0.1550514791131276,
          -0.8235325142044394,
          -0.7734353595866725,
          -0.2272660072396552,
          -0.5492738239493775,
          0.7459604453161981,
          -0.06911005652416762,
          0.7459604453161981,
          -0.5574687209657625,
          0.11629615261711605,
          0.15505147911312742,
          0.10974939995713581,
          -0.7285941210485957,
          -0.5574687209657625,
          -0.23546090425604005,
          0.5136040126625182,
          0.10974939995713581
         ],
         "yaxis": "y"
        }
       ],
       "layout": {
        "height": 600,
        "legend": {
         "title": {
          "text": "Cluster"
         },
         "tracegroupgap": 0
        },
        "margin": {
         "t": 60
        },
        "plot_bgcolor": "rgb(240,240,240)",
        "template": {
         "data": {
          "bar": [
           {
            "error_x": {
             "color": "#2a3f5f"
            },
            "error_y": {
             "color": "#2a3f5f"
            },
            "marker": {
             "line": {
              "color": "#E5ECF6",
              "width": 0.5
             },
             "pattern": {
              "fillmode": "overlay",
              "size": 10,
              "solidity": 0.2
             }
            },
            "type": "bar"
           }
          ],
          "barpolar": [
           {
            "marker": {
             "line": {
              "color": "#E5ECF6",
              "width": 0.5
             },
             "pattern": {
              "fillmode": "overlay",
              "size": 10,
              "solidity": 0.2
             }
            },
            "type": "barpolar"
           }
          ],
          "carpet": [
           {
            "aaxis": {
             "endlinecolor": "#2a3f5f",
             "gridcolor": "white",
             "linecolor": "white",
             "minorgridcolor": "white",
             "startlinecolor": "#2a3f5f"
            },
            "baxis": {
             "endlinecolor": "#2a3f5f",
             "gridcolor": "white",
             "linecolor": "white",
             "minorgridcolor": "white",
             "startlinecolor": "#2a3f5f"
            },
            "type": "carpet"
           }
          ],
          "choropleth": [
           {
            "colorbar": {
             "outlinewidth": 0,
             "ticks": ""
            },
            "type": "choropleth"
           }
          ],
          "contour": [
           {
            "colorbar": {
             "outlinewidth": 0,
             "ticks": ""
            },
            "colorscale": [
             [
              0,
              "#0d0887"
             ],
             [
              0.1111111111111111,
              "#46039f"
             ],
             [
              0.2222222222222222,
              "#7201a8"
             ],
             [
              0.3333333333333333,
              "#9c179e"
             ],
             [
              0.4444444444444444,
              "#bd3786"
             ],
             [
              0.5555555555555556,
              "#d8576b"
             ],
             [
              0.6666666666666666,
              "#ed7953"
             ],
             [
              0.7777777777777778,
              "#fb9f3a"
             ],
             [
              0.8888888888888888,
              "#fdca26"
             ],
             [
              1,
              "#f0f921"
             ]
            ],
            "type": "contour"
           }
          ],
          "contourcarpet": [
           {
            "colorbar": {
             "outlinewidth": 0,
             "ticks": ""
            },
            "type": "contourcarpet"
           }
          ],
          "heatmap": [
           {
            "colorbar": {
             "outlinewidth": 0,
             "ticks": ""
            },
            "colorscale": [
             [
              0,
              "#0d0887"
             ],
             [
              0.1111111111111111,
              "#46039f"
             ],
             [
              0.2222222222222222,
              "#7201a8"
             ],
             [
              0.3333333333333333,
              "#9c179e"
             ],
             [
              0.4444444444444444,
              "#bd3786"
             ],
             [
              0.5555555555555556,
              "#d8576b"
             ],
             [
              0.6666666666666666,
              "#ed7953"
             ],
             [
              0.7777777777777778,
              "#fb9f3a"
             ],
             [
              0.8888888888888888,
              "#fdca26"
             ],
             [
              1,
              "#f0f921"
             ]
            ],
            "type": "heatmap"
           }
          ],
          "heatmapgl": [
           {
            "colorbar": {
             "outlinewidth": 0,
             "ticks": ""
            },
            "colorscale": [
             [
              0,
              "#0d0887"
             ],
             [
              0.1111111111111111,
              "#46039f"
             ],
             [
              0.2222222222222222,
              "#7201a8"
             ],
             [
              0.3333333333333333,
              "#9c179e"
             ],
             [
              0.4444444444444444,
              "#bd3786"
             ],
             [
              0.5555555555555556,
              "#d8576b"
             ],
             [
              0.6666666666666666,
              "#ed7953"
             ],
             [
              0.7777777777777778,
              "#fb9f3a"
             ],
             [
              0.8888888888888888,
              "#fdca26"
             ],
             [
              1,
              "#f0f921"
             ]
            ],
            "type": "heatmapgl"
           }
          ],
          "histogram": [
           {
            "marker": {
             "pattern": {
              "fillmode": "overlay",
              "size": 10,
              "solidity": 0.2
             }
            },
            "type": "histogram"
           }
          ],
          "histogram2d": [
           {
            "colorbar": {
             "outlinewidth": 0,
             "ticks": ""
            },
            "colorscale": [
             [
              0,
              "#0d0887"
             ],
             [
              0.1111111111111111,
              "#46039f"
             ],
             [
              0.2222222222222222,
              "#7201a8"
             ],
             [
              0.3333333333333333,
              "#9c179e"
             ],
             [
              0.4444444444444444,
              "#bd3786"
             ],
             [
              0.5555555555555556,
              "#d8576b"
             ],
             [
              0.6666666666666666,
              "#ed7953"
             ],
             [
              0.7777777777777778,
              "#fb9f3a"
             ],
             [
              0.8888888888888888,
              "#fdca26"
             ],
             [
              1,
              "#f0f921"
             ]
            ],
            "type": "histogram2d"
           }
          ],
          "histogram2dcontour": [
           {
            "colorbar": {
             "outlinewidth": 0,
             "ticks": ""
            },
            "colorscale": [
             [
              0,
              "#0d0887"
             ],
             [
              0.1111111111111111,
              "#46039f"
             ],
             [
              0.2222222222222222,
              "#7201a8"
             ],
             [
              0.3333333333333333,
              "#9c179e"
             ],
             [
              0.4444444444444444,
              "#bd3786"
             ],
             [
              0.5555555555555556,
              "#d8576b"
             ],
             [
              0.6666666666666666,
              "#ed7953"
             ],
             [
              0.7777777777777778,
              "#fb9f3a"
             ],
             [
              0.8888888888888888,
              "#fdca26"
             ],
             [
              1,
              "#f0f921"
             ]
            ],
            "type": "histogram2dcontour"
           }
          ],
          "mesh3d": [
           {
            "colorbar": {
             "outlinewidth": 0,
             "ticks": ""
            },
            "type": "mesh3d"
           }
          ],
          "parcoords": [
           {
            "line": {
             "colorbar": {
              "outlinewidth": 0,
              "ticks": ""
             }
            },
            "type": "parcoords"
           }
          ],
          "pie": [
           {
            "automargin": true,
            "type": "pie"
           }
          ],
          "scatter": [
           {
            "fillpattern": {
             "fillmode": "overlay",
             "size": 10,
             "solidity": 0.2
            },
            "type": "scatter"
           }
          ],
          "scatter3d": [
           {
            "line": {
             "colorbar": {
              "outlinewidth": 0,
              "ticks": ""
             }
            },
            "marker": {
             "colorbar": {
              "outlinewidth": 0,
              "ticks": ""
             }
            },
            "type": "scatter3d"
           }
          ],
          "scattercarpet": [
           {
            "marker": {
             "colorbar": {
              "outlinewidth": 0,
              "ticks": ""
             }
            },
            "type": "scattercarpet"
           }
          ],
          "scattergeo": [
           {
            "marker": {
             "colorbar": {
              "outlinewidth": 0,
              "ticks": ""
             }
            },
            "type": "scattergeo"
           }
          ],
          "scattergl": [
           {
            "marker": {
             "colorbar": {
              "outlinewidth": 0,
              "ticks": ""
             }
            },
            "type": "scattergl"
           }
          ],
          "scattermapbox": [
           {
            "marker": {
             "colorbar": {
              "outlinewidth": 0,
              "ticks": ""
             }
            },
            "type": "scattermapbox"
           }
          ],
          "scatterpolar": [
           {
            "marker": {
             "colorbar": {
              "outlinewidth": 0,
              "ticks": ""
             }
            },
            "type": "scatterpolar"
           }
          ],
          "scatterpolargl": [
           {
            "marker": {
             "colorbar": {
              "outlinewidth": 0,
              "ticks": ""
             }
            },
            "type": "scatterpolargl"
           }
          ],
          "scatterternary": [
           {
            "marker": {
             "colorbar": {
              "outlinewidth": 0,
              "ticks": ""
             }
            },
            "type": "scatterternary"
           }
          ],
          "surface": [
           {
            "colorbar": {
             "outlinewidth": 0,
             "ticks": ""
            },
            "colorscale": [
             [
              0,
              "#0d0887"
             ],
             [
              0.1111111111111111,
              "#46039f"
             ],
             [
              0.2222222222222222,
              "#7201a8"
             ],
             [
              0.3333333333333333,
              "#9c179e"
             ],
             [
              0.4444444444444444,
              "#bd3786"
             ],
             [
              0.5555555555555556,
              "#d8576b"
             ],
             [
              0.6666666666666666,
              "#ed7953"
             ],
             [
              0.7777777777777778,
              "#fb9f3a"
             ],
             [
              0.8888888888888888,
              "#fdca26"
             ],
             [
              1,
              "#f0f921"
             ]
            ],
            "type": "surface"
           }
          ],
          "table": [
           {
            "cells": {
             "fill": {
              "color": "#EBF0F8"
             },
             "line": {
              "color": "white"
             }
            },
            "header": {
             "fill": {
              "color": "#C8D4E3"
             },
             "line": {
              "color": "white"
             }
            },
            "type": "table"
           }
          ]
         },
         "layout": {
          "annotationdefaults": {
           "arrowcolor": "#2a3f5f",
           "arrowhead": 0,
           "arrowwidth": 1
          },
          "autotypenumbers": "strict",
          "coloraxis": {
           "colorbar": {
            "outlinewidth": 0,
            "ticks": ""
           }
          },
          "colorscale": {
           "diverging": [
            [
             0,
             "#8e0152"
            ],
            [
             0.1,
             "#c51b7d"
            ],
            [
             0.2,
             "#de77ae"
            ],
            [
             0.3,
             "#f1b6da"
            ],
            [
             0.4,
             "#fde0ef"
            ],
            [
             0.5,
             "#f7f7f7"
            ],
            [
             0.6,
             "#e6f5d0"
            ],
            [
             0.7,
             "#b8e186"
            ],
            [
             0.8,
             "#7fbc41"
            ],
            [
             0.9,
             "#4d9221"
            ],
            [
             1,
             "#276419"
            ]
           ],
           "sequential": [
            [
             0,
             "#0d0887"
            ],
            [
             0.1111111111111111,
             "#46039f"
            ],
            [
             0.2222222222222222,
             "#7201a8"
            ],
            [
             0.3333333333333333,
             "#9c179e"
            ],
            [
             0.4444444444444444,
             "#bd3786"
            ],
            [
             0.5555555555555556,
             "#d8576b"
            ],
            [
             0.6666666666666666,
             "#ed7953"
            ],
            [
             0.7777777777777778,
             "#fb9f3a"
            ],
            [
             0.8888888888888888,
             "#fdca26"
            ],
            [
             1,
             "#f0f921"
            ]
           ],
           "sequentialminus": [
            [
             0,
             "#0d0887"
            ],
            [
             0.1111111111111111,
             "#46039f"
            ],
            [
             0.2222222222222222,
             "#7201a8"
            ],
            [
             0.3333333333333333,
             "#9c179e"
            ],
            [
             0.4444444444444444,
             "#bd3786"
            ],
            [
             0.5555555555555556,
             "#d8576b"
            ],
            [
             0.6666666666666666,
             "#ed7953"
            ],
            [
             0.7777777777777778,
             "#fb9f3a"
            ],
            [
             0.8888888888888888,
             "#fdca26"
            ],
            [
             1,
             "#f0f921"
            ]
           ]
          },
          "colorway": [
           "#636efa",
           "#EF553B",
           "#00cc96",
           "#ab63fa",
           "#FFA15A",
           "#19d3f3",
           "#FF6692",
           "#B6E880",
           "#FF97FF",
           "#FECB52"
          ],
          "font": {
           "color": "#2a3f5f"
          },
          "geo": {
           "bgcolor": "white",
           "lakecolor": "white",
           "landcolor": "#E5ECF6",
           "showlakes": true,
           "showland": true,
           "subunitcolor": "white"
          },
          "hoverlabel": {
           "align": "left"
          },
          "hovermode": "closest",
          "mapbox": {
           "style": "light"
          },
          "paper_bgcolor": "white",
          "plot_bgcolor": "#E5ECF6",
          "polar": {
           "angularaxis": {
            "gridcolor": "white",
            "linecolor": "white",
            "ticks": ""
           },
           "bgcolor": "#E5ECF6",
           "radialaxis": {
            "gridcolor": "white",
            "linecolor": "white",
            "ticks": ""
           }
          },
          "scene": {
           "xaxis": {
            "backgroundcolor": "#E5ECF6",
            "gridcolor": "white",
            "gridwidth": 2,
            "linecolor": "white",
            "showbackground": true,
            "ticks": "",
            "zerolinecolor": "white"
           },
           "yaxis": {
            "backgroundcolor": "#E5ECF6",
            "gridcolor": "white",
            "gridwidth": 2,
            "linecolor": "white",
            "showbackground": true,
            "ticks": "",
            "zerolinecolor": "white"
           },
           "zaxis": {
            "backgroundcolor": "#E5ECF6",
            "gridcolor": "white",
            "gridwidth": 2,
            "linecolor": "white",
            "showbackground": true,
            "ticks": "",
            "zerolinecolor": "white"
           }
          },
          "shapedefaults": {
           "line": {
            "color": "#2a3f5f"
           }
          },
          "ternary": {
           "aaxis": {
            "gridcolor": "white",
            "linecolor": "white",
            "ticks": ""
           },
           "baxis": {
            "gridcolor": "white",
            "linecolor": "white",
            "ticks": ""
           },
           "bgcolor": "#E5ECF6",
           "caxis": {
            "gridcolor": "white",
            "linecolor": "white",
            "ticks": ""
           }
          },
          "title": {
           "x": 0.05
          },
          "xaxis": {
           "automargin": true,
           "gridcolor": "white",
           "linecolor": "white",
           "ticks": "",
           "title": {
            "standoff": 15
           },
           "zerolinecolor": "white",
           "zerolinewidth": 2
          },
          "yaxis": {
           "automargin": true,
           "gridcolor": "white",
           "linecolor": "white",
           "ticks": "",
           "title": {
            "standoff": 15
           },
           "zerolinecolor": "white",
           "zerolinewidth": 2
          }
         }
        },
        "title": {
         "text": "2D Cluster PCA Plot"
        },
        "xaxis": {
         "anchor": "y",
         "domain": [
          0,
          1
         ],
         "title": {
          "text": "PCA1"
         }
        },
        "yaxis": {
         "anchor": "x",
         "domain": [
          0,
          1
         ],
         "title": {
          "text": "PCA2"
         }
        }
       }
      }
     },
     "metadata": {},
     "output_type": "display_data"
    }
   ],
   "source": [
    "plot_model(kmeans, plot='cluster')"
   ]
  },
  {
   "cell_type": "code",
   "execution_count": 14,
   "metadata": {},
   "outputs": [
    {
     "data": {
      "text/plain": [
       "(Pipeline(memory=Memory(location=None),\n",
       "          steps=[('numerical_imputer',\n",
       "                  TransformerWrapper(include=[], transformer=SimpleImputer())),\n",
       "                 ('categorical_imputer',\n",
       "                  TransformerWrapper(include=['age', 'edu_level', 'fav_animals',\n",
       "                                              'fav_place', 'gender'],\n",
       "                                     transformer=SimpleImputer(strategy='most_frequent'))),\n",
       "                 ('ordinal_encoding',\n",
       "                  TransformerWrapper(include=['gender'],\n",
       "                                     transfo...\n",
       "                                                                mapping=[{'col': 'gender',\n",
       "                                                                          'data_type': dtype('O'),\n",
       "                                                                          'mapping': Kobieta      0\n",
       " Mężczyzna    1\n",
       " NaN         -1\n",
       " dtype: int64}]))),\n",
       "                 ('onehot_encoding',\n",
       "                  TransformerWrapper(include=['age', 'edu_level', 'fav_animals',\n",
       "                                              'fav_place'],\n",
       "                                     transformer=OneHotEncoder(cols=['age',\n",
       "                                                                     'edu_level',\n",
       "                                                                     'fav_animals',\n",
       "                                                                     'fav_place'],\n",
       "                                                               handle_missing='return_nan',\n",
       "                                                               use_cat_names=True))),\n",
       "                 ('trained_model', KMeans(random_state=123))]),\n",
       " 'welcome_survey_clustering_pipeline_v2.pkl')"
      ]
     },
     "execution_count": 14,
     "metadata": {},
     "output_type": "execute_result"
    }
   ],
   "source": [
    "save_model(kmeans, 'welcome_survey_clustering_pipeline_v2', verbose=False)"
   ]
  },
  {
   "cell_type": "code",
   "execution_count": 15,
   "metadata": {},
   "outputs": [
    {
     "name": "stdout",
     "output_type": "stream",
     "text": [
      "Transformation Pipeline and Model Successfully Loaded\n"
     ]
    },
    {
     "data": {
      "text/html": [
       "<style>#sk-container-id-1 {\n",
       "  /* Definition of color scheme common for light and dark mode */\n",
       "  --sklearn-color-text: black;\n",
       "  --sklearn-color-line: gray;\n",
       "  /* Definition of color scheme for unfitted estimators */\n",
       "  --sklearn-color-unfitted-level-0: #fff5e6;\n",
       "  --sklearn-color-unfitted-level-1: #f6e4d2;\n",
       "  --sklearn-color-unfitted-level-2: #ffe0b3;\n",
       "  --sklearn-color-unfitted-level-3: chocolate;\n",
       "  /* Definition of color scheme for fitted estimators */\n",
       "  --sklearn-color-fitted-level-0: #f0f8ff;\n",
       "  --sklearn-color-fitted-level-1: #d4ebff;\n",
       "  --sklearn-color-fitted-level-2: #b3dbfd;\n",
       "  --sklearn-color-fitted-level-3: cornflowerblue;\n",
       "\n",
       "  /* Specific color for light theme */\n",
       "  --sklearn-color-text-on-default-background: var(--sg-text-color, var(--theme-code-foreground, var(--jp-content-font-color1, black)));\n",
       "  --sklearn-color-background: var(--sg-background-color, var(--theme-background, var(--jp-layout-color0, white)));\n",
       "  --sklearn-color-border-box: var(--sg-text-color, var(--theme-code-foreground, var(--jp-content-font-color1, black)));\n",
       "  --sklearn-color-icon: #696969;\n",
       "\n",
       "  @media (prefers-color-scheme: dark) {\n",
       "    /* Redefinition of color scheme for dark theme */\n",
       "    --sklearn-color-text-on-default-background: var(--sg-text-color, var(--theme-code-foreground, var(--jp-content-font-color1, white)));\n",
       "    --sklearn-color-background: var(--sg-background-color, var(--theme-background, var(--jp-layout-color0, #111)));\n",
       "    --sklearn-color-border-box: var(--sg-text-color, var(--theme-code-foreground, var(--jp-content-font-color1, white)));\n",
       "    --sklearn-color-icon: #878787;\n",
       "  }\n",
       "}\n",
       "\n",
       "#sk-container-id-1 {\n",
       "  color: var(--sklearn-color-text);\n",
       "}\n",
       "\n",
       "#sk-container-id-1 pre {\n",
       "  padding: 0;\n",
       "}\n",
       "\n",
       "#sk-container-id-1 input.sk-hidden--visually {\n",
       "  border: 0;\n",
       "  clip: rect(1px 1px 1px 1px);\n",
       "  clip: rect(1px, 1px, 1px, 1px);\n",
       "  height: 1px;\n",
       "  margin: -1px;\n",
       "  overflow: hidden;\n",
       "  padding: 0;\n",
       "  position: absolute;\n",
       "  width: 1px;\n",
       "}\n",
       "\n",
       "#sk-container-id-1 div.sk-dashed-wrapped {\n",
       "  border: 1px dashed var(--sklearn-color-line);\n",
       "  margin: 0 0.4em 0.5em 0.4em;\n",
       "  box-sizing: border-box;\n",
       "  padding-bottom: 0.4em;\n",
       "  background-color: var(--sklearn-color-background);\n",
       "}\n",
       "\n",
       "#sk-container-id-1 div.sk-container {\n",
       "  /* jupyter's `normalize.less` sets `[hidden] { display: none; }`\n",
       "     but bootstrap.min.css set `[hidden] { display: none !important; }`\n",
       "     so we also need the `!important` here to be able to override the\n",
       "     default hidden behavior on the sphinx rendered scikit-learn.org.\n",
       "     See: https://github.com/scikit-learn/scikit-learn/issues/21755 */\n",
       "  display: inline-block !important;\n",
       "  position: relative;\n",
       "}\n",
       "\n",
       "#sk-container-id-1 div.sk-text-repr-fallback {\n",
       "  display: none;\n",
       "}\n",
       "\n",
       "div.sk-parallel-item,\n",
       "div.sk-serial,\n",
       "div.sk-item {\n",
       "  /* draw centered vertical line to link estimators */\n",
       "  background-image: linear-gradient(var(--sklearn-color-text-on-default-background), var(--sklearn-color-text-on-default-background));\n",
       "  background-size: 2px 100%;\n",
       "  background-repeat: no-repeat;\n",
       "  background-position: center center;\n",
       "}\n",
       "\n",
       "/* Parallel-specific style estimator block */\n",
       "\n",
       "#sk-container-id-1 div.sk-parallel-item::after {\n",
       "  content: \"\";\n",
       "  width: 100%;\n",
       "  border-bottom: 2px solid var(--sklearn-color-text-on-default-background);\n",
       "  flex-grow: 1;\n",
       "}\n",
       "\n",
       "#sk-container-id-1 div.sk-parallel {\n",
       "  display: flex;\n",
       "  align-items: stretch;\n",
       "  justify-content: center;\n",
       "  background-color: var(--sklearn-color-background);\n",
       "  position: relative;\n",
       "}\n",
       "\n",
       "#sk-container-id-1 div.sk-parallel-item {\n",
       "  display: flex;\n",
       "  flex-direction: column;\n",
       "}\n",
       "\n",
       "#sk-container-id-1 div.sk-parallel-item:first-child::after {\n",
       "  align-self: flex-end;\n",
       "  width: 50%;\n",
       "}\n",
       "\n",
       "#sk-container-id-1 div.sk-parallel-item:last-child::after {\n",
       "  align-self: flex-start;\n",
       "  width: 50%;\n",
       "}\n",
       "\n",
       "#sk-container-id-1 div.sk-parallel-item:only-child::after {\n",
       "  width: 0;\n",
       "}\n",
       "\n",
       "/* Serial-specific style estimator block */\n",
       "\n",
       "#sk-container-id-1 div.sk-serial {\n",
       "  display: flex;\n",
       "  flex-direction: column;\n",
       "  align-items: center;\n",
       "  background-color: var(--sklearn-color-background);\n",
       "  padding-right: 1em;\n",
       "  padding-left: 1em;\n",
       "}\n",
       "\n",
       "\n",
       "/* Toggleable style: style used for estimator/Pipeline/ColumnTransformer box that is\n",
       "clickable and can be expanded/collapsed.\n",
       "- Pipeline and ColumnTransformer use this feature and define the default style\n",
       "- Estimators will overwrite some part of the style using the `sk-estimator` class\n",
       "*/\n",
       "\n",
       "/* Pipeline and ColumnTransformer style (default) */\n",
       "\n",
       "#sk-container-id-1 div.sk-toggleable {\n",
       "  /* Default theme specific background. It is overwritten whether we have a\n",
       "  specific estimator or a Pipeline/ColumnTransformer */\n",
       "  background-color: var(--sklearn-color-background);\n",
       "}\n",
       "\n",
       "/* Toggleable label */\n",
       "#sk-container-id-1 label.sk-toggleable__label {\n",
       "  cursor: pointer;\n",
       "  display: block;\n",
       "  width: 100%;\n",
       "  margin-bottom: 0;\n",
       "  padding: 0.5em;\n",
       "  box-sizing: border-box;\n",
       "  text-align: center;\n",
       "}\n",
       "\n",
       "#sk-container-id-1 label.sk-toggleable__label-arrow:before {\n",
       "  /* Arrow on the left of the label */\n",
       "  content: \"▸\";\n",
       "  float: left;\n",
       "  margin-right: 0.25em;\n",
       "  color: var(--sklearn-color-icon);\n",
       "}\n",
       "\n",
       "#sk-container-id-1 label.sk-toggleable__label-arrow:hover:before {\n",
       "  color: var(--sklearn-color-text);\n",
       "}\n",
       "\n",
       "/* Toggleable content - dropdown */\n",
       "\n",
       "#sk-container-id-1 div.sk-toggleable__content {\n",
       "  max-height: 0;\n",
       "  max-width: 0;\n",
       "  overflow: hidden;\n",
       "  text-align: left;\n",
       "  /* unfitted */\n",
       "  background-color: var(--sklearn-color-unfitted-level-0);\n",
       "}\n",
       "\n",
       "#sk-container-id-1 div.sk-toggleable__content.fitted {\n",
       "  /* fitted */\n",
       "  background-color: var(--sklearn-color-fitted-level-0);\n",
       "}\n",
       "\n",
       "#sk-container-id-1 div.sk-toggleable__content pre {\n",
       "  margin: 0.2em;\n",
       "  border-radius: 0.25em;\n",
       "  color: var(--sklearn-color-text);\n",
       "  /* unfitted */\n",
       "  background-color: var(--sklearn-color-unfitted-level-0);\n",
       "}\n",
       "\n",
       "#sk-container-id-1 div.sk-toggleable__content.fitted pre {\n",
       "  /* unfitted */\n",
       "  background-color: var(--sklearn-color-fitted-level-0);\n",
       "}\n",
       "\n",
       "#sk-container-id-1 input.sk-toggleable__control:checked~div.sk-toggleable__content {\n",
       "  /* Expand drop-down */\n",
       "  max-height: 200px;\n",
       "  max-width: 100%;\n",
       "  overflow: auto;\n",
       "}\n",
       "\n",
       "#sk-container-id-1 input.sk-toggleable__control:checked~label.sk-toggleable__label-arrow:before {\n",
       "  content: \"▾\";\n",
       "}\n",
       "\n",
       "/* Pipeline/ColumnTransformer-specific style */\n",
       "\n",
       "#sk-container-id-1 div.sk-label input.sk-toggleable__control:checked~label.sk-toggleable__label {\n",
       "  color: var(--sklearn-color-text);\n",
       "  background-color: var(--sklearn-color-unfitted-level-2);\n",
       "}\n",
       "\n",
       "#sk-container-id-1 div.sk-label.fitted input.sk-toggleable__control:checked~label.sk-toggleable__label {\n",
       "  background-color: var(--sklearn-color-fitted-level-2);\n",
       "}\n",
       "\n",
       "/* Estimator-specific style */\n",
       "\n",
       "/* Colorize estimator box */\n",
       "#sk-container-id-1 div.sk-estimator input.sk-toggleable__control:checked~label.sk-toggleable__label {\n",
       "  /* unfitted */\n",
       "  background-color: var(--sklearn-color-unfitted-level-2);\n",
       "}\n",
       "\n",
       "#sk-container-id-1 div.sk-estimator.fitted input.sk-toggleable__control:checked~label.sk-toggleable__label {\n",
       "  /* fitted */\n",
       "  background-color: var(--sklearn-color-fitted-level-2);\n",
       "}\n",
       "\n",
       "#sk-container-id-1 div.sk-label label.sk-toggleable__label,\n",
       "#sk-container-id-1 div.sk-label label {\n",
       "  /* The background is the default theme color */\n",
       "  color: var(--sklearn-color-text-on-default-background);\n",
       "}\n",
       "\n",
       "/* On hover, darken the color of the background */\n",
       "#sk-container-id-1 div.sk-label:hover label.sk-toggleable__label {\n",
       "  color: var(--sklearn-color-text);\n",
       "  background-color: var(--sklearn-color-unfitted-level-2);\n",
       "}\n",
       "\n",
       "/* Label box, darken color on hover, fitted */\n",
       "#sk-container-id-1 div.sk-label.fitted:hover label.sk-toggleable__label.fitted {\n",
       "  color: var(--sklearn-color-text);\n",
       "  background-color: var(--sklearn-color-fitted-level-2);\n",
       "}\n",
       "\n",
       "/* Estimator label */\n",
       "\n",
       "#sk-container-id-1 div.sk-label label {\n",
       "  font-family: monospace;\n",
       "  font-weight: bold;\n",
       "  display: inline-block;\n",
       "  line-height: 1.2em;\n",
       "}\n",
       "\n",
       "#sk-container-id-1 div.sk-label-container {\n",
       "  text-align: center;\n",
       "}\n",
       "\n",
       "/* Estimator-specific */\n",
       "#sk-container-id-1 div.sk-estimator {\n",
       "  font-family: monospace;\n",
       "  border: 1px dotted var(--sklearn-color-border-box);\n",
       "  border-radius: 0.25em;\n",
       "  box-sizing: border-box;\n",
       "  margin-bottom: 0.5em;\n",
       "  /* unfitted */\n",
       "  background-color: var(--sklearn-color-unfitted-level-0);\n",
       "}\n",
       "\n",
       "#sk-container-id-1 div.sk-estimator.fitted {\n",
       "  /* fitted */\n",
       "  background-color: var(--sklearn-color-fitted-level-0);\n",
       "}\n",
       "\n",
       "/* on hover */\n",
       "#sk-container-id-1 div.sk-estimator:hover {\n",
       "  /* unfitted */\n",
       "  background-color: var(--sklearn-color-unfitted-level-2);\n",
       "}\n",
       "\n",
       "#sk-container-id-1 div.sk-estimator.fitted:hover {\n",
       "  /* fitted */\n",
       "  background-color: var(--sklearn-color-fitted-level-2);\n",
       "}\n",
       "\n",
       "/* Specification for estimator info (e.g. \"i\" and \"?\") */\n",
       "\n",
       "/* Common style for \"i\" and \"?\" */\n",
       "\n",
       ".sk-estimator-doc-link,\n",
       "a:link.sk-estimator-doc-link,\n",
       "a:visited.sk-estimator-doc-link {\n",
       "  float: right;\n",
       "  font-size: smaller;\n",
       "  line-height: 1em;\n",
       "  font-family: monospace;\n",
       "  background-color: var(--sklearn-color-background);\n",
       "  border-radius: 1em;\n",
       "  height: 1em;\n",
       "  width: 1em;\n",
       "  text-decoration: none !important;\n",
       "  margin-left: 1ex;\n",
       "  /* unfitted */\n",
       "  border: var(--sklearn-color-unfitted-level-1) 1pt solid;\n",
       "  color: var(--sklearn-color-unfitted-level-1);\n",
       "}\n",
       "\n",
       ".sk-estimator-doc-link.fitted,\n",
       "a:link.sk-estimator-doc-link.fitted,\n",
       "a:visited.sk-estimator-doc-link.fitted {\n",
       "  /* fitted */\n",
       "  border: var(--sklearn-color-fitted-level-1) 1pt solid;\n",
       "  color: var(--sklearn-color-fitted-level-1);\n",
       "}\n",
       "\n",
       "/* On hover */\n",
       "div.sk-estimator:hover .sk-estimator-doc-link:hover,\n",
       ".sk-estimator-doc-link:hover,\n",
       "div.sk-label-container:hover .sk-estimator-doc-link:hover,\n",
       ".sk-estimator-doc-link:hover {\n",
       "  /* unfitted */\n",
       "  background-color: var(--sklearn-color-unfitted-level-3);\n",
       "  color: var(--sklearn-color-background);\n",
       "  text-decoration: none;\n",
       "}\n",
       "\n",
       "div.sk-estimator.fitted:hover .sk-estimator-doc-link.fitted:hover,\n",
       ".sk-estimator-doc-link.fitted:hover,\n",
       "div.sk-label-container:hover .sk-estimator-doc-link.fitted:hover,\n",
       ".sk-estimator-doc-link.fitted:hover {\n",
       "  /* fitted */\n",
       "  background-color: var(--sklearn-color-fitted-level-3);\n",
       "  color: var(--sklearn-color-background);\n",
       "  text-decoration: none;\n",
       "}\n",
       "\n",
       "/* Span, style for the box shown on hovering the info icon */\n",
       ".sk-estimator-doc-link span {\n",
       "  display: none;\n",
       "  z-index: 9999;\n",
       "  position: relative;\n",
       "  font-weight: normal;\n",
       "  right: .2ex;\n",
       "  padding: .5ex;\n",
       "  margin: .5ex;\n",
       "  width: min-content;\n",
       "  min-width: 20ex;\n",
       "  max-width: 50ex;\n",
       "  color: var(--sklearn-color-text);\n",
       "  box-shadow: 2pt 2pt 4pt #999;\n",
       "  /* unfitted */\n",
       "  background: var(--sklearn-color-unfitted-level-0);\n",
       "  border: .5pt solid var(--sklearn-color-unfitted-level-3);\n",
       "}\n",
       "\n",
       ".sk-estimator-doc-link.fitted span {\n",
       "  /* fitted */\n",
       "  background: var(--sklearn-color-fitted-level-0);\n",
       "  border: var(--sklearn-color-fitted-level-3);\n",
       "}\n",
       "\n",
       ".sk-estimator-doc-link:hover span {\n",
       "  display: block;\n",
       "}\n",
       "\n",
       "/* \"?\"-specific style due to the `<a>` HTML tag */\n",
       "\n",
       "#sk-container-id-1 a.estimator_doc_link {\n",
       "  float: right;\n",
       "  font-size: 1rem;\n",
       "  line-height: 1em;\n",
       "  font-family: monospace;\n",
       "  background-color: var(--sklearn-color-background);\n",
       "  border-radius: 1rem;\n",
       "  height: 1rem;\n",
       "  width: 1rem;\n",
       "  text-decoration: none;\n",
       "  /* unfitted */\n",
       "  color: var(--sklearn-color-unfitted-level-1);\n",
       "  border: var(--sklearn-color-unfitted-level-1) 1pt solid;\n",
       "}\n",
       "\n",
       "#sk-container-id-1 a.estimator_doc_link.fitted {\n",
       "  /* fitted */\n",
       "  border: var(--sklearn-color-fitted-level-1) 1pt solid;\n",
       "  color: var(--sklearn-color-fitted-level-1);\n",
       "}\n",
       "\n",
       "/* On hover */\n",
       "#sk-container-id-1 a.estimator_doc_link:hover {\n",
       "  /* unfitted */\n",
       "  background-color: var(--sklearn-color-unfitted-level-3);\n",
       "  color: var(--sklearn-color-background);\n",
       "  text-decoration: none;\n",
       "}\n",
       "\n",
       "#sk-container-id-1 a.estimator_doc_link.fitted:hover {\n",
       "  /* fitted */\n",
       "  background-color: var(--sklearn-color-fitted-level-3);\n",
       "}\n",
       "</style><div id=\"sk-container-id-1\" class=\"sk-top-container\"><div class=\"sk-text-repr-fallback\"><pre>Pipeline(memory=FastMemory(location=C:\\Users\\User\\AppData\\Local\\Temp\\joblib),\n",
       "         steps=[(&#x27;numerical_imputer&#x27;,\n",
       "                 TransformerWrapper(include=[], transformer=SimpleImputer())),\n",
       "                (&#x27;categorical_imputer&#x27;,\n",
       "                 TransformerWrapper(include=[&#x27;age&#x27;, &#x27;edu_level&#x27;, &#x27;fav_animals&#x27;,\n",
       "                                             &#x27;fav_place&#x27;, &#x27;gender&#x27;],\n",
       "                                    transformer=SimpleImputer(strategy=&#x27;most_frequent&#x27;))),\n",
       "                (&#x27;ordinal_encoding&#x27;,\n",
       "                 Transf...\n",
       "                                                               mapping=[{&#x27;col&#x27;: &#x27;gender&#x27;,\n",
       "                                                                         &#x27;data_type&#x27;: dtype(&#x27;O&#x27;),\n",
       "                                                                         &#x27;mapping&#x27;: Kobieta      0\n",
       "Mężczyzna    1\n",
       "NaN         -1\n",
       "dtype: int64}]))),\n",
       "                (&#x27;onehot_encoding&#x27;,\n",
       "                 TransformerWrapper(include=[&#x27;age&#x27;, &#x27;edu_level&#x27;, &#x27;fav_animals&#x27;,\n",
       "                                             &#x27;fav_place&#x27;],\n",
       "                                    transformer=OneHotEncoder(cols=[&#x27;age&#x27;,\n",
       "                                                                    &#x27;edu_level&#x27;,\n",
       "                                                                    &#x27;fav_animals&#x27;,\n",
       "                                                                    &#x27;fav_place&#x27;],\n",
       "                                                              handle_missing=&#x27;return_nan&#x27;,\n",
       "                                                              use_cat_names=True))),\n",
       "                (&#x27;trained_model&#x27;, KMeans(random_state=123))])</pre><b>In a Jupyter environment, please rerun this cell to show the HTML representation or trust the notebook. <br />On GitHub, the HTML representation is unable to render, please try loading this page with nbviewer.org.</b></div><div class=\"sk-container\" hidden><div class=\"sk-item sk-dashed-wrapped\"><div class=\"sk-label-container\"><div class=\"sk-label fitted sk-toggleable\"><input class=\"sk-toggleable__control sk-hidden--visually\" id=\"sk-estimator-id-1\" type=\"checkbox\" ><label for=\"sk-estimator-id-1\" class=\"sk-toggleable__label fitted sk-toggleable__label-arrow fitted\">&nbsp;Pipeline<span class=\"sk-estimator-doc-link fitted\">i<span>Fitted</span></span></label><div class=\"sk-toggleable__content fitted\"><pre>Pipeline(memory=FastMemory(location=C:\\Users\\User\\AppData\\Local\\Temp\\joblib),\n",
       "         steps=[(&#x27;numerical_imputer&#x27;,\n",
       "                 TransformerWrapper(include=[], transformer=SimpleImputer())),\n",
       "                (&#x27;categorical_imputer&#x27;,\n",
       "                 TransformerWrapper(include=[&#x27;age&#x27;, &#x27;edu_level&#x27;, &#x27;fav_animals&#x27;,\n",
       "                                             &#x27;fav_place&#x27;, &#x27;gender&#x27;],\n",
       "                                    transformer=SimpleImputer(strategy=&#x27;most_frequent&#x27;))),\n",
       "                (&#x27;ordinal_encoding&#x27;,\n",
       "                 Transf...\n",
       "                                                               mapping=[{&#x27;col&#x27;: &#x27;gender&#x27;,\n",
       "                                                                         &#x27;data_type&#x27;: dtype(&#x27;O&#x27;),\n",
       "                                                                         &#x27;mapping&#x27;: Kobieta      0\n",
       "Mężczyzna    1\n",
       "NaN         -1\n",
       "dtype: int64}]))),\n",
       "                (&#x27;onehot_encoding&#x27;,\n",
       "                 TransformerWrapper(include=[&#x27;age&#x27;, &#x27;edu_level&#x27;, &#x27;fav_animals&#x27;,\n",
       "                                             &#x27;fav_place&#x27;],\n",
       "                                    transformer=OneHotEncoder(cols=[&#x27;age&#x27;,\n",
       "                                                                    &#x27;edu_level&#x27;,\n",
       "                                                                    &#x27;fav_animals&#x27;,\n",
       "                                                                    &#x27;fav_place&#x27;],\n",
       "                                                              handle_missing=&#x27;return_nan&#x27;,\n",
       "                                                              use_cat_names=True))),\n",
       "                (&#x27;trained_model&#x27;, KMeans(random_state=123))])</pre></div> </div></div><div class=\"sk-serial\"><div class=\"sk-item sk-dashed-wrapped\"><div class=\"sk-label-container\"><div class=\"sk-label fitted sk-toggleable\"><input class=\"sk-toggleable__control sk-hidden--visually\" id=\"sk-estimator-id-2\" type=\"checkbox\" ><label for=\"sk-estimator-id-2\" class=\"sk-toggleable__label fitted sk-toggleable__label-arrow fitted\">numerical_imputer: TransformerWrapper</label><div class=\"sk-toggleable__content fitted\"><pre>TransformerWrapper(include=[], transformer=SimpleImputer())</pre></div> </div></div><div class=\"sk-parallel\"><div class=\"sk-parallel-item\"><div class=\"sk-item\"><div class=\"sk-label-container\"><div class=\"sk-label fitted sk-toggleable\"><input class=\"sk-toggleable__control sk-hidden--visually\" id=\"sk-estimator-id-3\" type=\"checkbox\" ><label for=\"sk-estimator-id-3\" class=\"sk-toggleable__label fitted sk-toggleable__label-arrow fitted\">transformer: SimpleImputer</label><div class=\"sk-toggleable__content fitted\"><pre>SimpleImputer()</pre></div> </div></div><div class=\"sk-serial\"><div class=\"sk-item\"><div class=\"sk-estimator fitted sk-toggleable\"><input class=\"sk-toggleable__control sk-hidden--visually\" id=\"sk-estimator-id-4\" type=\"checkbox\" ><label for=\"sk-estimator-id-4\" class=\"sk-toggleable__label fitted sk-toggleable__label-arrow fitted\">&nbsp;SimpleImputer<a class=\"sk-estimator-doc-link fitted\" rel=\"noreferrer\" target=\"_blank\" href=\"https://scikit-learn.org/1.4/modules/generated/sklearn.impute.SimpleImputer.html\">?<span>Documentation for SimpleImputer</span></a></label><div class=\"sk-toggleable__content fitted\"><pre>SimpleImputer()</pre></div> </div></div></div></div></div></div></div><div class=\"sk-item sk-dashed-wrapped\"><div class=\"sk-label-container\"><div class=\"sk-label fitted sk-toggleable\"><input class=\"sk-toggleable__control sk-hidden--visually\" id=\"sk-estimator-id-5\" type=\"checkbox\" ><label for=\"sk-estimator-id-5\" class=\"sk-toggleable__label fitted sk-toggleable__label-arrow fitted\">categorical_imputer: TransformerWrapper</label><div class=\"sk-toggleable__content fitted\"><pre>TransformerWrapper(include=[&#x27;age&#x27;, &#x27;edu_level&#x27;, &#x27;fav_animals&#x27;, &#x27;fav_place&#x27;,\n",
       "                            &#x27;gender&#x27;],\n",
       "                   transformer=SimpleImputer(strategy=&#x27;most_frequent&#x27;))</pre></div> </div></div><div class=\"sk-parallel\"><div class=\"sk-parallel-item\"><div class=\"sk-item\"><div class=\"sk-label-container\"><div class=\"sk-label fitted sk-toggleable\"><input class=\"sk-toggleable__control sk-hidden--visually\" id=\"sk-estimator-id-6\" type=\"checkbox\" ><label for=\"sk-estimator-id-6\" class=\"sk-toggleable__label fitted sk-toggleable__label-arrow fitted\">transformer: SimpleImputer</label><div class=\"sk-toggleable__content fitted\"><pre>SimpleImputer(strategy=&#x27;most_frequent&#x27;)</pre></div> </div></div><div class=\"sk-serial\"><div class=\"sk-item\"><div class=\"sk-estimator fitted sk-toggleable\"><input class=\"sk-toggleable__control sk-hidden--visually\" id=\"sk-estimator-id-7\" type=\"checkbox\" ><label for=\"sk-estimator-id-7\" class=\"sk-toggleable__label fitted sk-toggleable__label-arrow fitted\">&nbsp;SimpleImputer<a class=\"sk-estimator-doc-link fitted\" rel=\"noreferrer\" target=\"_blank\" href=\"https://scikit-learn.org/1.4/modules/generated/sklearn.impute.SimpleImputer.html\">?<span>Documentation for SimpleImputer</span></a></label><div class=\"sk-toggleable__content fitted\"><pre>SimpleImputer(strategy=&#x27;most_frequent&#x27;)</pre></div> </div></div></div></div></div></div></div><div class=\"sk-item sk-dashed-wrapped\"><div class=\"sk-label-container\"><div class=\"sk-label fitted sk-toggleable\"><input class=\"sk-toggleable__control sk-hidden--visually\" id=\"sk-estimator-id-8\" type=\"checkbox\" ><label for=\"sk-estimator-id-8\" class=\"sk-toggleable__label fitted sk-toggleable__label-arrow fitted\">ordinal_encoding: TransformerWrapper</label><div class=\"sk-toggleable__content fitted\"><pre>TransformerWrapper(include=[&#x27;gender&#x27;],\n",
       "                   transformer=OrdinalEncoder(cols=[&#x27;gender&#x27;],\n",
       "                                              handle_missing=&#x27;return_nan&#x27;,\n",
       "                                              mapping=[{&#x27;col&#x27;: &#x27;gender&#x27;,\n",
       "                                                        &#x27;data_type&#x27;: dtype(&#x27;O&#x27;),\n",
       "                                                        &#x27;mapping&#x27;: Kobieta      0\n",
       "Mężczyzna    1\n",
       "NaN         -1\n",
       "dtype: int64}]))</pre></div> </div></div><div class=\"sk-parallel\"><div class=\"sk-parallel-item\"><div class=\"sk-item\"><div class=\"sk-label-container\"><div class=\"sk-label fitted sk-toggleable\"><input class=\"sk-toggleable__control sk-hidden--visually\" id=\"sk-estimator-id-9\" type=\"checkbox\" ><label for=\"sk-estimator-id-9\" class=\"sk-toggleable__label fitted sk-toggleable__label-arrow fitted\">transformer: OrdinalEncoder</label><div class=\"sk-toggleable__content fitted\"><pre>OrdinalEncoder(cols=[&#x27;gender&#x27;], handle_missing=&#x27;return_nan&#x27;,\n",
       "               mapping=[{&#x27;col&#x27;: &#x27;gender&#x27;, &#x27;data_type&#x27;: dtype(&#x27;O&#x27;),\n",
       "                         &#x27;mapping&#x27;: Kobieta      0\n",
       "Mężczyzna    1\n",
       "NaN         -1\n",
       "dtype: int64}])</pre></div> </div></div><div class=\"sk-serial\"><div class=\"sk-item\"><div class=\"sk-estimator fitted sk-toggleable\"><input class=\"sk-toggleable__control sk-hidden--visually\" id=\"sk-estimator-id-10\" type=\"checkbox\" ><label for=\"sk-estimator-id-10\" class=\"sk-toggleable__label fitted sk-toggleable__label-arrow fitted\">OrdinalEncoder</label><div class=\"sk-toggleable__content fitted\"><pre>OrdinalEncoder(cols=[&#x27;gender&#x27;], handle_missing=&#x27;return_nan&#x27;,\n",
       "               mapping=[{&#x27;col&#x27;: &#x27;gender&#x27;, &#x27;data_type&#x27;: dtype(&#x27;O&#x27;),\n",
       "                         &#x27;mapping&#x27;: Kobieta      0\n",
       "Mężczyzna    1\n",
       "NaN         -1\n",
       "dtype: int64}])</pre></div> </div></div></div></div></div></div></div><div class=\"sk-item sk-dashed-wrapped\"><div class=\"sk-label-container\"><div class=\"sk-label fitted sk-toggleable\"><input class=\"sk-toggleable__control sk-hidden--visually\" id=\"sk-estimator-id-11\" type=\"checkbox\" ><label for=\"sk-estimator-id-11\" class=\"sk-toggleable__label fitted sk-toggleable__label-arrow fitted\">onehot_encoding: TransformerWrapper</label><div class=\"sk-toggleable__content fitted\"><pre>TransformerWrapper(include=[&#x27;age&#x27;, &#x27;edu_level&#x27;, &#x27;fav_animals&#x27;, &#x27;fav_place&#x27;],\n",
       "                   transformer=OneHotEncoder(cols=[&#x27;age&#x27;, &#x27;edu_level&#x27;,\n",
       "                                                   &#x27;fav_animals&#x27;, &#x27;fav_place&#x27;],\n",
       "                                             handle_missing=&#x27;return_nan&#x27;,\n",
       "                                             use_cat_names=True))</pre></div> </div></div><div class=\"sk-parallel\"><div class=\"sk-parallel-item\"><div class=\"sk-item\"><div class=\"sk-label-container\"><div class=\"sk-label fitted sk-toggleable\"><input class=\"sk-toggleable__control sk-hidden--visually\" id=\"sk-estimator-id-12\" type=\"checkbox\" ><label for=\"sk-estimator-id-12\" class=\"sk-toggleable__label fitted sk-toggleable__label-arrow fitted\">transformer: OneHotEncoder</label><div class=\"sk-toggleable__content fitted\"><pre>OneHotEncoder(cols=[&#x27;age&#x27;, &#x27;edu_level&#x27;, &#x27;fav_animals&#x27;, &#x27;fav_place&#x27;],\n",
       "              handle_missing=&#x27;return_nan&#x27;, use_cat_names=True)</pre></div> </div></div><div class=\"sk-serial\"><div class=\"sk-item\"><div class=\"sk-estimator fitted sk-toggleable\"><input class=\"sk-toggleable__control sk-hidden--visually\" id=\"sk-estimator-id-13\" type=\"checkbox\" ><label for=\"sk-estimator-id-13\" class=\"sk-toggleable__label fitted sk-toggleable__label-arrow fitted\">OneHotEncoder</label><div class=\"sk-toggleable__content fitted\"><pre>OneHotEncoder(cols=[&#x27;age&#x27;, &#x27;edu_level&#x27;, &#x27;fav_animals&#x27;, &#x27;fav_place&#x27;],\n",
       "              handle_missing=&#x27;return_nan&#x27;, use_cat_names=True)</pre></div> </div></div></div></div></div></div></div><div class=\"sk-item\"><div class=\"sk-estimator fitted sk-toggleable\"><input class=\"sk-toggleable__control sk-hidden--visually\" id=\"sk-estimator-id-14\" type=\"checkbox\" ><label for=\"sk-estimator-id-14\" class=\"sk-toggleable__label fitted sk-toggleable__label-arrow fitted\">&nbsp;KMeans<a class=\"sk-estimator-doc-link fitted\" rel=\"noreferrer\" target=\"_blank\" href=\"https://scikit-learn.org/1.4/modules/generated/sklearn.cluster.KMeans.html\">?<span>Documentation for KMeans</span></a></label><div class=\"sk-toggleable__content fitted\"><pre>KMeans(random_state=123)</pre></div> </div></div></div></div></div></div>"
      ],
      "text/plain": [
       "Pipeline(memory=FastMemory(location=C:\\Users\\User\\AppData\\Local\\Temp\\joblib),\n",
       "         steps=[('numerical_imputer',\n",
       "                 TransformerWrapper(include=[], transformer=SimpleImputer())),\n",
       "                ('categorical_imputer',\n",
       "                 TransformerWrapper(include=['age', 'edu_level', 'fav_animals',\n",
       "                                             'fav_place', 'gender'],\n",
       "                                    transformer=SimpleImputer(strategy='most_frequent'))),\n",
       "                ('ordinal_encoding',\n",
       "                 Transf...\n",
       "                                                               mapping=[{'col': 'gender',\n",
       "                                                                         'data_type': dtype('O'),\n",
       "                                                                         'mapping': Kobieta      0\n",
       "Mężczyzna    1\n",
       "NaN         -1\n",
       "dtype: int64}]))),\n",
       "                ('onehot_encoding',\n",
       "                 TransformerWrapper(include=['age', 'edu_level', 'fav_animals',\n",
       "                                             'fav_place'],\n",
       "                                    transformer=OneHotEncoder(cols=['age',\n",
       "                                                                    'edu_level',\n",
       "                                                                    'fav_animals',\n",
       "                                                                    'fav_place'],\n",
       "                                                              handle_missing='return_nan',\n",
       "                                                              use_cat_names=True))),\n",
       "                ('trained_model', KMeans(random_state=123))])"
      ]
     },
     "execution_count": 15,
     "metadata": {},
     "output_type": "execute_result"
    }
   ],
   "source": [
    "kmeans_pipeline = load_model('welcome_survey_clustering_pipeline_v2')\n",
    "kmeans_pipeline"
   ]
  },
  {
   "cell_type": "code",
   "execution_count": 16,
   "metadata": {},
   "outputs": [],
   "source": [
    "predict_df = pd.DataFrame([\n",
    "    {\n",
    "        \"age\": \"45-54\",  # '<18', '25-34', '45-54', '35-44', '18-24', '>=65', '55-64', 'unknown'\n",
    "        \"edu_level\": 'Średnie',  # 'Podstawowe', 'Średnie', 'Wyższe'\n",
    "        \"fav_animals\": 'Brak ulubionych',  # 'Brak ulubionych', 'Psy', 'Koty', 'Inne', 'Koty i Psy'\n",
    "        \"fav_place\": 'W lesie',  # 'Nad wodą', 'W lesie', 'W górach', 'Inne'\n",
    "        \"gender\": 'Kobieta',  # 'Mężczyzna', 'Kobieta'\n",
    "    }\n",
    "])"
   ]
  },
  {
   "cell_type": "code",
   "execution_count": 17,
   "metadata": {},
   "outputs": [
    {
     "data": {
      "text/plain": [
       "0    Cluster 4\n",
       "Name: Cluster, dtype: object"
      ]
     },
     "execution_count": 17,
     "metadata": {},
     "output_type": "execute_result"
    }
   ],
   "source": [
    "predict_with_clusters_df = predict_model(kmeans_pipeline, data=predict_df)\n",
    "predict_with_clusters_df[\"Cluster\"]"
   ]
  },
  {
   "cell_type": "code",
   "execution_count": null,
   "metadata": {},
   "outputs": [],
   "source": []
  }
 ],
 "metadata": {
  "kernelspec": {
   "display_name": "open_ai",
   "language": "python",
   "name": "python3"
  },
  "language_info": {
   "codemirror_mode": {
    "name": "ipython",
    "version": 3
   },
   "file_extension": ".py",
   "mimetype": "text/x-python",
   "name": "python",
   "nbconvert_exporter": "python",
   "pygments_lexer": "ipython3",
   "version": "3.11.10"
  }
 },
 "nbformat": 4,
 "nbformat_minor": 4
}
